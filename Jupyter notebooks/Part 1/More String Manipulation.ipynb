{
 "cells": [
  {
   "cell_type": "markdown",
   "metadata": {},
   "source": [
    "# Hi :)"
   ]
  },
  {
   "cell_type": "markdown",
   "metadata": {},
   "source": [
    "----"
   ]
  },
  {
   "cell_type": "markdown",
   "metadata": {},
   "source": [
    "080\n",
    "Ask the user to enter their\n",
    "first name and then display\n",
    "the length of their first name.\n",
    "Then ask for their surname\n",
    "and display the length of\n",
    "their surname. Join their first\n",
    "name and surname together\n",
    "with a space between and\n",
    "display the result. Finally,\n",
    "display the length of their full\n",
    "name (including the space)."
   ]
  },
  {
   "cell_type": "code",
   "execution_count": 1,
   "metadata": {},
   "outputs": [
    {
     "name": "stdout",
     "output_type": "stream",
     "text": [
      "5\n",
      "5\n",
      "Erfan Joodi\n",
      "11\n"
     ]
    }
   ],
   "source": [
    "first_name= input('Please enter your first name: ')\n",
    "print((len(first_name)))\n",
    "surname= input('Please enter your surname: ')\n",
    "print(len(surname))\n",
    "full_name= first_name + ' ' + surname\n",
    "print(full_name)\n",
    "print(len(full_name))"
   ]
  },
  {
   "cell_type": "markdown",
   "metadata": {},
   "source": [
    "----"
   ]
  },
  {
   "cell_type": "markdown",
   "metadata": {},
   "source": [
    "081\n",
    "Ask the user to type in their favourite school subject.\n",
    "Display it with “-” after each letter, e.g. S-p-a-n-i-s-h-."
   ]
  },
  {
   "cell_type": "code",
   "execution_count": 2,
   "metadata": {},
   "outputs": [
    {
     "name": "stdout",
     "output_type": "stream",
     "text": [
      "M-a-t-h-"
     ]
    }
   ],
   "source": [
    "favourite= input('What is your favourite subject in the school? ')\n",
    "for letter in favourite:\n",
    "    print(letter, end= '-')"
   ]
  },
  {
   "cell_type": "markdown",
   "metadata": {},
   "source": [
    "----"
   ]
  },
  {
   "cell_type": "markdown",
   "metadata": {},
   "source": [
    "082\n",
    "Show the user a line of text from your favourite poem\n",
    "and ask for a starting and ending point. Display the\n",
    "characters between those two points."
   ]
  },
  {
   "cell_type": "code",
   "execution_count": 3,
   "metadata": {},
   "outputs": [
    {
     "name": "stdout",
     "output_type": "stream",
     "text": [
      "Ahoii daram khoshgeleh\n",
      "i da\n"
     ]
    }
   ],
   "source": [
    "poem= 'Ahoii daram khoshgeleh'\n",
    "print(poem)\n",
    "start= int(input('Please enter the starting point: '))\n",
    "end= int(input('Please enter the ending point: '))\n",
    "print(poem[start : end])"
   ]
  },
  {
   "cell_type": "markdown",
   "metadata": {},
   "source": [
    "----"
   ]
  },
  {
   "cell_type": "markdown",
   "metadata": {},
   "source": [
    "083\n",
    "Ask the user to type in a word in upper case. If they\n",
    "type it in lower case, ask them to try again. Keep\n",
    "repeating this until they type in a message all in\n",
    "uppercase."
   ]
  },
  {
   "cell_type": "code",
   "execution_count": 4,
   "metadata": {},
   "outputs": [
    {
     "name": "stdout",
     "output_type": "stream",
     "text": [
      "Try again\n",
      "Try again\n"
     ]
    }
   ],
   "source": [
    "while True:\n",
    "    word= input('Please enter a word in upper case: ')\n",
    "    if word.isupper():\n",
    "        break\n",
    "    else:\n",
    "        print('Try again')"
   ]
  },
  {
   "cell_type": "markdown",
   "metadata": {},
   "source": [
    "----"
   ]
  },
  {
   "cell_type": "markdown",
   "metadata": {},
   "source": [
    "084\n",
    "Ask the user to type in their\n",
    "postcode. Display the first\n",
    "two letters in uppercase."
   ]
  },
  {
   "cell_type": "code",
   "execution_count": 5,
   "metadata": {},
   "outputs": [
    {
     "name": "stdout",
     "output_type": "stream",
     "text": [
      "33\n"
     ]
    }
   ],
   "source": [
    "postcode= input('Please enter your postcode: ')\n",
    "print(postcode[ : 2].upper())"
   ]
  },
  {
   "cell_type": "markdown",
   "metadata": {},
   "source": [
    "----"
   ]
  },
  {
   "cell_type": "markdown",
   "metadata": {},
   "source": [
    "085\n",
    "Ask the user to type in their name\n",
    "and then tell them how many vowels are in their name."
   ]
  },
  {
   "cell_type": "code",
   "execution_count": 6,
   "metadata": {},
   "outputs": [
    {
     "name": "stdout",
     "output_type": "stream",
     "text": [
      "There is 2 vowels in your name\n"
     ]
    }
   ],
   "source": [
    "name= input('Please enter your name: ').lower()\n",
    "counter= 0\n",
    "for letter in name:\n",
    "    if letter in ['a', 'e', 'o', 'u', 'i']:\n",
    "        counter += 1\n",
    "print(f\"There is {counter} vowels in your name\")"
   ]
  },
  {
   "cell_type": "markdown",
   "metadata": {},
   "source": [
    "----"
   ]
  },
  {
   "cell_type": "markdown",
   "metadata": {},
   "source": [
    "086\n",
    "Ask the user to enter a new password. Ask\n",
    "them to enter it again. If the two passwords\n",
    "match, display “Thank you”. If the letters are\n",
    "correct but in the wrong case, display the\n",
    "message “They must be in the same case”,\n",
    "otherwise display the message “Incorrect”."
   ]
  },
  {
   "cell_type": "code",
   "execution_count": 7,
   "metadata": {},
   "outputs": [
    {
     "name": "stdout",
     "output_type": "stream",
     "text": [
      "Thank you\n"
     ]
    }
   ],
   "source": [
    "password= input('Please enter your password: ')\n",
    "repassword= input('Please repeat your password: ')\n",
    "if (password == repassword):\n",
    "    print('Thank you')\n",
    "elif (password.lower() == repassword.lower()):\n",
    "    print('They must be in the same case')\n",
    "else:\n",
    "    print('Incorrect')"
   ]
  },
  {
   "cell_type": "markdown",
   "metadata": {},
   "source": [
    "----"
   ]
  },
  {
   "cell_type": "markdown",
   "metadata": {},
   "source": [
    "087\n",
    "Ask the user to type in a word and then\n",
    "display it backwards on separate lines. For\n",
    "instance, if they type in “Hello” it should\n",
    "display as shown below:(page 69)"
   ]
  },
  {
   "cell_type": "code",
   "execution_count": 8,
   "metadata": {},
   "outputs": [
    {
     "name": "stdout",
     "output_type": "stream",
     "text": [
      "n\n",
      "a\n",
      "f\n",
      "r\n",
      "E\n"
     ]
    }
   ],
   "source": [
    "word= input('Please enter a word: ')\n",
    "for i in range(-1, -len(word) - 1, -1):\n",
    "    print(word[i])"
   ]
  }
 ],
 "metadata": {
  "kernelspec": {
   "display_name": "Qvenv",
   "language": "python",
   "name": "qvenv"
  },
  "language_info": {
   "codemirror_mode": {
    "name": "ipython",
    "version": 3
   },
   "file_extension": ".py",
   "mimetype": "text/x-python",
   "name": "python",
   "nbconvert_exporter": "python",
   "pygments_lexer": "ipython3",
   "version": "3.10.0"
  }
 },
 "nbformat": 4,
 "nbformat_minor": 2
}
