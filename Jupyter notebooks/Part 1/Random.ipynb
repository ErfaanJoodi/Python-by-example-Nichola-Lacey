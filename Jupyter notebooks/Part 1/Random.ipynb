{
 "cells": [
  {
   "cell_type": "markdown",
   "metadata": {},
   "source": [
    "# Hi :)"
   ]
  },
  {
   "cell_type": "markdown",
   "metadata": {},
   "source": [
    "----"
   ]
  },
  {
   "cell_type": "markdown",
   "metadata": {},
   "source": [
    "052\n",
    "Display a\n",
    "random\n",
    "integer\n",
    "between\n",
    "1 and 100\n",
    "inclusive."
   ]
  },
  {
   "cell_type": "code",
   "execution_count": 1,
   "metadata": {},
   "outputs": [
    {
     "data": {
      "text/plain": [
       "32"
      ]
     },
     "execution_count": 1,
     "metadata": {},
     "output_type": "execute_result"
    }
   ],
   "source": [
    "import random\n",
    "\n",
    "random.randint(1, 100)\n",
    "# random.randrange(1, 100, 1)"
   ]
  },
  {
   "cell_type": "markdown",
   "metadata": {},
   "source": [
    "----"
   ]
  },
  {
   "cell_type": "markdown",
   "metadata": {},
   "source": [
    "053\n",
    "Display a\n",
    "random\n",
    "fruit from\n",
    "a list of\n",
    "five fruits."
   ]
  },
  {
   "cell_type": "code",
   "execution_count": 2,
   "metadata": {},
   "outputs": [
    {
     "data": {
      "text/plain": [
       "'cucumber'"
      ]
     },
     "execution_count": 2,
     "metadata": {},
     "output_type": "execute_result"
    }
   ],
   "source": [
    "import random\n",
    "\n",
    "random.choice(['apple', 'banana', 'orange', 'carrot', 'cucumber'])"
   ]
  },
  {
   "cell_type": "markdown",
   "metadata": {},
   "source": [
    "----"
   ]
  },
  {
   "cell_type": "markdown",
   "metadata": {},
   "source": [
    "054\n",
    "Randomly choose either heads or tails (“h” or “t”). Ask\n",
    "the user to make their choice. If their choice is the same\n",
    "as the randomly selected value, display the message\n",
    "“You win”, otherwise display “Bad luck”. At the end, tell\n",
    "the user if the computer selected heads or tails."
   ]
  },
  {
   "cell_type": "code",
   "execution_count": 3,
   "metadata": {},
   "outputs": [
    {
     "name": "stdout",
     "output_type": "stream",
     "text": [
      "You win, the program choice was 'h'\n"
     ]
    }
   ],
   "source": [
    "import random\n",
    "\n",
    "user_choice= input('Please select head or tail(h/t): ').lower()\n",
    "program_choice= random.choice(['h', 't'])\n",
    "print(f\"You win, the program choice was '{program_choice}'\") if (user_choice == program_choice) else print(f\"Bad luck, the program choice was '{program_choice}'\")"
   ]
  },
  {
   "cell_type": "markdown",
   "metadata": {},
   "source": [
    "----"
   ]
  },
  {
   "cell_type": "markdown",
   "metadata": {},
   "source": [
    "055\n",
    "Randomly choose a number between 1 and 5. Ask the user to pick a\n",
    "number. If they guess correctly, display the message “Well done”,\n",
    "otherwise tell them if they are too high or too low and ask them to pick a\n",
    "second number. If they guess correctly on their second guess, display\n",
    "“Correct”, otherwise display “You lose”."
   ]
  },
  {
   "cell_type": "code",
   "execution_count": 4,
   "metadata": {},
   "outputs": [
    {
     "name": "stdout",
     "output_type": "stream",
     "text": [
      "Too high\n",
      "Correct, the program choice was 2\n"
     ]
    }
   ],
   "source": [
    "import random\n",
    "\n",
    "user_choice= int(input('Please select an integer number between 1 and 5: '))\n",
    "program_choice= random.randint(1, 5)\n",
    "if user_choice != program_choice:\n",
    "    print('Too high') if (program_choice < user_choice) else print('Too low')\n",
    "    user_new_choice= int(input('What is your second choice? '))\n",
    "    print(f\"Correct, the program choice was {program_choice}\") if (user_new_choice == program_choice) else print(f\"You lose, the program choice was {program_choice}\")\n",
    "else:\n",
    "    print(f\"Well done, the program choice was {program_choice}\")"
   ]
  },
  {
   "cell_type": "markdown",
   "metadata": {},
   "source": [
    "----"
   ]
  },
  {
   "cell_type": "markdown",
   "metadata": {},
   "source": [
    "056\n",
    "Randomly pick a whole number between 1\n",
    "and 10. Ask the user to enter a number and\n",
    "keep entering numbers until they enter the\n",
    "number that was randomly picked."
   ]
  },
  {
   "cell_type": "code",
   "execution_count": 5,
   "metadata": {},
   "outputs": [
    {
     "name": "stdout",
     "output_type": "stream",
     "text": [
      "Try again\n",
      "Try again\n",
      "Try again\n",
      "Try again\n",
      "Try again\n",
      "Try again\n",
      "Try again\n",
      "Correct, the program choice was 7\n"
     ]
    }
   ],
   "source": [
    "import random\n",
    "\n",
    "program_choice= random.randint(1, 10)\n",
    "while True:\n",
    "    user_choice= int(input('Please select an integer number between 1 and 10: '))\n",
    "    if user_choice == program_choice:\n",
    "        print(f\"Correct, the program choice was {program_choice}\")\n",
    "        break\n",
    "    else:\n",
    "        print('Try again')"
   ]
  },
  {
   "cell_type": "markdown",
   "metadata": {},
   "source": [
    "----"
   ]
  },
  {
   "cell_type": "markdown",
   "metadata": {},
   "source": [
    "057\n",
    "Update\n",
    "program 056\n",
    "so that it\n",
    "tells the\n",
    "user if they\n",
    "are too high\n",
    "or too low\n",
    "before they\n",
    "pick again."
   ]
  },
  {
   "cell_type": "code",
   "execution_count": 6,
   "metadata": {},
   "outputs": [
    {
     "name": "stdout",
     "output_type": "stream",
     "text": [
      "Too low\n",
      "Correct, the program choice was 8\n"
     ]
    }
   ],
   "source": [
    "import random\n",
    "\n",
    "program_choice= random.randint(1, 10)\n",
    "while True:\n",
    "    user_choice= int(input('Please select an integer number between 1 and 10: '))\n",
    "    if user_choice == program_choice:\n",
    "        print(f\"Correct, the program choice was {program_choice}\")\n",
    "        break\n",
    "    else:\n",
    "        print('Too high') if (program_choice < user_choice) else print('Too low')"
   ]
  },
  {
   "cell_type": "markdown",
   "metadata": {},
   "source": [
    "----"
   ]
  },
  {
   "cell_type": "markdown",
   "metadata": {},
   "source": [
    "058\n",
    "Make a maths quiz that asks five questions by randomly\n",
    "generating two whole numbers to make the question\n",
    "(e.g. [num1] + [num2]). Ask the user to enter the\n",
    "answer. If they get it right add a point to their score. At\n",
    "the end of the quiz, tell them how many they got correct\n",
    "out of five."
   ]
  },
  {
   "cell_type": "code",
   "execution_count": 7,
   "metadata": {},
   "outputs": [
    {
     "name": "stdout",
     "output_type": "stream",
     "text": [
      "Correct\n",
      "Correct\n",
      "Correct\n",
      "Correct\n",
      "Correct\n",
      "You answered 5 questions correctly out of 5 questions\n"
     ]
    }
   ],
   "source": [
    "import random\n",
    "\n",
    "counter= 0\n",
    "for i in range(5):\n",
    "    num1= random.randint(1, 100)\n",
    "    num2= random.randint(1, 100)\n",
    "    answer= float(input(f\"What is the answer of {num1} + {num2}? \"))\n",
    "    if answer == (num1 + num2):\n",
    "        print('Correct')\n",
    "        counter += 1\n",
    "    else:\n",
    "        print('Incorrect')\n",
    "print(f\"You answered {counter} questions correctly out of 5 questions\")"
   ]
  },
  {
   "cell_type": "markdown",
   "metadata": {},
   "source": [
    "----"
   ]
  },
  {
   "cell_type": "markdown",
   "metadata": {},
   "source": [
    "059\n",
    "Display five colours and ask the user to pick one. If they\n",
    "pick the same as the program has chosen, say “Well\n",
    "done”, otherwise display a witty answer which involves\n",
    "the correct colour, e.g. “I bet you are GREEN with envy”\n",
    "or “You are probably feeling BLUE right now”. Ask\n",
    "them to guess again; if they have still not got it right,\n",
    "keep giving them the same clue and ask the user to\n",
    "enter a colour until they guess it correctly."
   ]
  },
  {
   "cell_type": "code",
   "execution_count": 8,
   "metadata": {},
   "outputs": [
    {
     "name": "stdout",
     "output_type": "stream",
     "text": [
      "Correct, the program choice was purple too\n"
     ]
    }
   ],
   "source": [
    "import random\n",
    "\n",
    "program_choice= random.choice(['red', 'blue', 'white', 'black', 'purple'])\n",
    "user_choice= input('Please select a color from this list: red, blue, white, black and purple ').lower()\n",
    "if program_choice != user_choice:\n",
    "    while True:\n",
    "        user_choice= input(f\"Try again, you are probably feeling {program_choice} this time, what is your guess? \").lower()\n",
    "        if user_choice == program_choice:\n",
    "            print(f\"Correct, the program choice was {program_choice} too\")\n",
    "            break\n",
    "else:\n",
    "    print(f\"Well done, the program choice was {program_choice} too\")"
   ]
  }
 ],
 "metadata": {
  "kernelspec": {
   "display_name": "Qvenv",
   "language": "python",
   "name": "qvenv"
  },
  "language_info": {
   "codemirror_mode": {
    "name": "ipython",
    "version": 3
   },
   "file_extension": ".py",
   "mimetype": "text/x-python",
   "name": "python",
   "nbconvert_exporter": "python",
   "pygments_lexer": "ipython3",
   "version": "3.10.0"
  }
 },
 "nbformat": 4,
 "nbformat_minor": 2
}
