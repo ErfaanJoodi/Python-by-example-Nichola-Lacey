{
 "cells": [
  {
   "cell_type": "markdown",
   "metadata": {},
   "source": [
    "# Hi :)"
   ]
  },
  {
   "cell_type": "markdown",
   "metadata": {},
   "source": [
    "----"
   ]
  },
  {
   "cell_type": "markdown",
   "metadata": {},
   "source": [
    "111\n",
    "Create a .csv file that will store the following data(page 95). Call it “Books.csv”."
   ]
  },
  {
   "cell_type": "code",
   "execution_count": 1,
   "metadata": {},
   "outputs": [],
   "source": [
    "import csv\n",
    "\n",
    "text= 'To Kill A Mochingbird,Harper Lee,1960\\nA Brief History of Time,Stephen Hawking,1988\\nThe Great Gatsby,F.Scott Fitzjerald,1922\\nThe Man Who Mistook His Wife for a Hat,Oliver Sacks,1985\\nPride and Prejudice,Jane Austen,1813\\n'\n",
    "file= open('Files/Books.csv', 'w')\n",
    "file.write(text)\n",
    "file.close()"
   ]
  },
  {
   "cell_type": "markdown",
   "metadata": {},
   "source": [
    "----"
   ]
  },
  {
   "cell_type": "markdown",
   "metadata": {},
   "source": [
    "112\n",
    "Using the Books.csv file\n",
    "from program 111, ask\n",
    "the user to enter another\n",
    "record and add it to the\n",
    "end of the file. Display\n",
    "each row of the .csv file\n",
    "on a separate line."
   ]
  },
  {
   "cell_type": "code",
   "execution_count": 2,
   "metadata": {},
   "outputs": [
    {
     "name": "stdout",
     "output_type": "stream",
     "text": [
      "To Kill A Mochingbird,Harper Lee,1960\n",
      "\n",
      "A Brief History of Time,Stephen Hawking,1988\n",
      "\n",
      "The Great Gatsby,F.Scott Fitzjerald,1922\n",
      "\n",
      "The Man Who Mistook His Wife for a Hat,Oliver Sacks,1985\n",
      "\n",
      "Pride and Prejudice,Jane Austen,1813\n",
      "\n",
      "Shahnameh,Ferdosi,1010\n",
      "\n"
     ]
    }
   ],
   "source": [
    "import csv\n",
    "\n",
    "def text_editor(text):\n",
    "    ls= text.split(' ')\n",
    "    new_text= ''\n",
    "    for i in range(len(ls)):\n",
    "        if '.' not in ls[i]:\n",
    "            new_text += (ls[i].capitalize() + ' ')\n",
    "        else:\n",
    "            sub_ls= ls[i].split('.')\n",
    "            for j in range(len(sub_ls)):\n",
    "                new_text += (sub_ls[i].capitalize() + '.')\n",
    "            new_text= new_text[ : -1] + ' '\n",
    "    new_text= new_text[ : -1]\n",
    "    return new_text\n",
    "            \n",
    "            \n",
    "name= text_editor(input('Please enter a new name: '))\n",
    "author= text_editor(input('Please enter the authors name: '))\n",
    "year= input('Please enter the year: ')\n",
    "text= name + ',' + author + ',' + year + '\\n'\n",
    "file= open('Files/Books.csv', 'a')\n",
    "file.write(text)\n",
    "file.close()\n",
    "\n",
    "file= open('Files/Books.csv', 'r')\n",
    "for row in file:\n",
    "    print(row)\n",
    "file.close()"
   ]
  },
  {
   "cell_type": "markdown",
   "metadata": {},
   "source": [
    "----"
   ]
  },
  {
   "cell_type": "markdown",
   "metadata": {},
   "source": [
    "113\n",
    "Using the Books.csv file, ask the user how many records\n",
    "they want to add to the list and then allow them to add\n",
    "that many. After all the data has been added, ask for an\n",
    "author and display all the books in the list by that author.\n",
    "If there are no books by that author in the list, display a\n",
    "suitable message."
   ]
  },
  {
   "cell_type": "code",
   "execution_count": 6,
   "metadata": {},
   "outputs": [
    {
     "name": "stdout",
     "output_type": "stream",
     "text": [
      "Shahnameh\n"
     ]
    }
   ],
   "source": [
    "import csv\n",
    "\n",
    "def text_editor(text):\n",
    "    ls= text.split(' ')\n",
    "    new_text= ''\n",
    "    for i in range(len(ls)):\n",
    "        if '.' not in ls[i]:\n",
    "            new_text += (ls[i].capitalize() + ' ')\n",
    "        else:\n",
    "            sub_ls= ls[i].split('.')\n",
    "            for j in range(len(sub_ls)):\n",
    "                new_text += (sub_ls[i].capitalize() + '.')\n",
    "            new_text= new_text[ : -1] + ' '\n",
    "    new_text= new_text[ : -1]\n",
    "    return new_text\n",
    "\n",
    "number= int(input('How many records do you want to add to the dataset? '))\n",
    "if number != 0:\n",
    "    for i in range(number):\n",
    "        name= text_editor(input('Please enter a new name: '))\n",
    "        author= text_editor(input('Please enter the authors name: '))\n",
    "        year= input('Please enter the year: ')\n",
    "        text= name + ',' + author + ',' + year + '\\n'\n",
    "        file= open('Files/Books.csv', 'a')\n",
    "        file.write(text)\n",
    "        file.close()\n",
    "\n",
    "name= text_editor(input('Please enter an author name: '))\n",
    "file= open('Files/Books.csv', 'r')\n",
    "for row in file:\n",
    "    if name in row:\n",
    "        print(row.split(',')[0])\n",
    "file.close()"
   ]
  },
  {
   "cell_type": "markdown",
   "metadata": {},
   "source": [
    "----"
   ]
  },
  {
   "cell_type": "markdown",
   "metadata": {},
   "source": [
    "114\n",
    "Using the Books.csv file, ask the user\n",
    "to enter a starting year and an end\n",
    "year. Display all books released\n",
    "between those two years."
   ]
  },
  {
   "cell_type": "code",
   "execution_count": 8,
   "metadata": {},
   "outputs": [
    {
     "name": "stdout",
     "output_type": "stream",
     "text": [
      "Shahnameh,Ferdosi,1010\n",
      "\n"
     ]
    }
   ],
   "source": [
    "import csv\n",
    "\n",
    "start_year= int(input('Please enter a start year: '))\n",
    "end_year= int(input('Please enter an end year: '))\n",
    "\n",
    "file= open('Files/Books.csv', 'r')\n",
    "for row in file:\n",
    "    if (start_year < int(row.split(',')[2]) < end_year):\n",
    "        print(row)\n",
    "file.close()"
   ]
  },
  {
   "cell_type": "markdown",
   "metadata": {},
   "source": [
    "----"
   ]
  },
  {
   "cell_type": "markdown",
   "metadata": {},
   "source": [
    "115\n",
    "Using the Books.csv file, display the data in\n",
    "the file along with the row number of each."
   ]
  },
  {
   "cell_type": "code",
   "execution_count": 10,
   "metadata": {},
   "outputs": [
    {
     "name": "stdout",
     "output_type": "stream",
     "text": [
      "0: To Kill A Mochingbird,Harper Lee,1960\n",
      "\n",
      "1: A Brief History of Time,Stephen Hawking,1988\n",
      "\n",
      "2: The Great Gatsby,F.Scott Fitzjerald,1922\n",
      "\n",
      "3: The Man Who Mistook His Wife for a Hat,Oliver Sacks,1985\n",
      "\n",
      "4: Pride and Prejudice,Jane Austen,1813\n",
      "\n",
      "5: Shahnameh,Ferdosi,1010\n",
      "\n"
     ]
    }
   ],
   "source": [
    "import csv\n",
    "\n",
    "file= open('Files/Books.csv', 'r')\n",
    "i= 0\n",
    "for row in file:\n",
    "    print(f\"{i}: {row}\")\n",
    "    i += 1\n",
    "file.close()"
   ]
  },
  {
   "cell_type": "markdown",
   "metadata": {},
   "source": [
    "----"
   ]
  },
  {
   "cell_type": "markdown",
   "metadata": {},
   "source": [
    "116\n",
    "Import the data from the Books.csv file into a list. Display the\n",
    "list to the user. Ask them to select which row from the list\n",
    "they want to delete and remove it from the list. Ask the user\n",
    "which data they want to change and allow them to change it.\n",
    "Write the data back to the original .csv file, overwriting the\n",
    "existing data with the amended data."
   ]
  },
  {
   "cell_type": "code",
   "execution_count": null,
   "metadata": {},
   "outputs": [],
   "source": []
  },
  {
   "cell_type": "markdown",
   "metadata": {},
   "source": [
    "----"
   ]
  },
  {
   "cell_type": "markdown",
   "metadata": {},
   "source": [
    "117\n",
    "Create a simple maths quiz that will ask the user for their name and then generate two\n",
    "random questions. Store their name, the questions they were asked, their answers and\n",
    "their final score in a .csv file. Whenever the program is run it should add to the .csv file\n",
    "and not overwrite anything."
   ]
  },
  {
   "cell_type": "code",
   "execution_count": null,
   "metadata": {},
   "outputs": [],
   "source": []
  }
 ],
 "metadata": {
  "kernelspec": {
   "display_name": "Qvenv",
   "language": "python",
   "name": "qvenv"
  },
  "language_info": {
   "codemirror_mode": {
    "name": "ipython",
    "version": 3
   },
   "file_extension": ".py",
   "mimetype": "text/x-python",
   "name": "python",
   "nbconvert_exporter": "python",
   "pygments_lexer": "ipython3",
   "version": "3.10.0"
  }
 },
 "nbformat": 4,
 "nbformat_minor": 2
}
