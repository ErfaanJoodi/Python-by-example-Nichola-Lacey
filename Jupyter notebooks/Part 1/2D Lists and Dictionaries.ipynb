{
 "cells": [
  {
   "cell_type": "markdown",
   "metadata": {},
   "source": [
    "# Hi :)"
   ]
  },
  {
   "cell_type": "markdown",
   "metadata": {},
   "source": [
    "----"
   ]
  },
  {
   "cell_type": "markdown",
   "metadata": {},
   "source": [
    "096\n",
    "Create the following using a\n",
    "simple 2D list using the\n",
    "standard Python indexing:(page 82)"
   ]
  },
  {
   "cell_type": "code",
   "execution_count": 1,
   "metadata": {},
   "outputs": [
    {
     "name": "stdout",
     "output_type": "stream",
     "text": [
      "[[2, 5, 8], [3, 7, 4], [1, 6, 9], [4, 2, 0]]\n"
     ]
    }
   ],
   "source": [
    "ls= [[2, 5, 8], [3, 7, 4], [1, 6, 9], [4, 2, 0]]\n",
    "print(ls)"
   ]
  },
  {
   "cell_type": "markdown",
   "metadata": {},
   "source": [
    "----"
   ]
  },
  {
   "cell_type": "markdown",
   "metadata": {},
   "source": [
    "097\n",
    "Using the 2D list from program 096, ask the user to\n",
    "select a row and a column and display that value."
   ]
  },
  {
   "cell_type": "code",
   "execution_count": 2,
   "metadata": {},
   "outputs": [
    {
     "name": "stdout",
     "output_type": "stream",
     "text": [
      "4\n"
     ]
    }
   ],
   "source": [
    "ls= [[2, 5, 8], [3, 7, 4], [1, 6, 9], [4, 2, 0]]\n",
    "row= int(input('Please select a row between 1 and 4: '))\n",
    "column= int(input('Please select a column between 1 and 3: '))\n",
    "print(ls[row - 1][column - 1])"
   ]
  },
  {
   "cell_type": "markdown",
   "metadata": {},
   "source": [
    "----"
   ]
  },
  {
   "cell_type": "markdown",
   "metadata": {},
   "source": [
    "098\n",
    "Using the 2D list from program 096, ask the user\n",
    "which row they would like displayed and display\n",
    "just that row. Ask them to enter a new value and\n",
    "add it to the end of the row and display the row\n",
    "again."
   ]
  },
  {
   "cell_type": "code",
   "execution_count": 3,
   "metadata": {},
   "outputs": [
    {
     "name": "stdout",
     "output_type": "stream",
     "text": [
      "[4, 2, 0]\n",
      "[4, 2, 0, 8]\n"
     ]
    }
   ],
   "source": [
    "ls= [[2, 5, 8], [3, 7, 4], [1, 6, 9], [4, 2, 0]]\n",
    "row= int(input('Please select a row between 1 and 4: '))\n",
    "print(ls[row - 1])\n",
    "new_val= int(input(f\"Please enter an integer number as a new value for row number {row}: \"))\n",
    "ls[row - 1].append(new_val)\n",
    "print(ls[row - 1])"
   ]
  },
  {
   "cell_type": "markdown",
   "metadata": {},
   "source": [
    "----"
   ]
  },
  {
   "cell_type": "markdown",
   "metadata": {},
   "source": [
    "099\n",
    "Change your previous program\n",
    "to ask the user which row they\n",
    "want displayed. Display that\n",
    "row. Ask which column in that\n",
    "row they want displayed and\n",
    "display the value that is held\n",
    "there. Ask the user if they want\n",
    "to change the value. If they do,\n",
    "ask for a new value and change\n",
    "the data. Finally, display the\n",
    "whole row again."
   ]
  },
  {
   "cell_type": "code",
   "execution_count": 4,
   "metadata": {},
   "outputs": [
    {
     "name": "stdout",
     "output_type": "stream",
     "text": [
      "[4, 2, 0]\n",
      "2\n",
      "[4, 8, 0]\n"
     ]
    }
   ],
   "source": [
    "ls= [[2, 5, 8], [3, 7, 4], [1, 6, 9], [4, 2, 0]]\n",
    "row= int(input('Please select a row between 1 and 4: '))\n",
    "print(ls[row - 1])\n",
    "column= int(input('Please select a column between 1 and 3: '))\n",
    "print(ls[row - 1][column - 1])\n",
    "answer= input('Do you want to change that value(y/n)? ').lower()\n",
    "if answer == 'y':\n",
    "    new_val= int(input('Please enter your new value: '))\n",
    "    ls[row - 1][column - 1]= new_val\n",
    "    print(ls[row - 1])\n",
    "else:\n",
    "    print(ls[row - 1])"
   ]
  },
  {
   "cell_type": "markdown",
   "metadata": {},
   "source": [
    "----"
   ]
  },
  {
   "cell_type": "markdown",
   "metadata": {},
   "source": [
    "100\n",
    "Create the following using a 2D dictionary showing\n",
    "the sales each person has made in the different\n",
    "geographical regions:(page 82)"
   ]
  },
  {
   "cell_type": "code",
   "execution_count": 5,
   "metadata": {},
   "outputs": [
    {
     "name": "stdout",
     "output_type": "stream",
     "text": [
      "{'John': {'N': 3056, 'S': 8463, 'E': 8441, 'W': 2694}, 'Tom': {'N': 4832, 'S': 6786, 'E': 4737, 'W': 3612}, 'Anne': {'N': 5239, 'S': 4802, 'E': 5820, 'W': 1859}, 'Fiona': {'N': 3904, 'S': 3645, 'E': 8821, 'W': 2451}}\n"
     ]
    }
   ],
   "source": [
    "sales= {'John' : {'N' : 3056, 'S' : 8463, 'E' : 8441, 'W' : 2694},\n",
    "        'Tom' : {'N' : 4832, 'S' : 6786, 'E' : 4737, 'W' : 3612},\n",
    "        'Anne' : {'N' : 5239, 'S' : 4802, 'E' : 5820, 'W' : 1859},\n",
    "        'Fiona' : {'N' : 3904, 'S' : 3645, 'E' : 8821, 'W' : 2451}}\n",
    "print(sales)"
   ]
  },
  {
   "cell_type": "markdown",
   "metadata": {},
   "source": [
    "----"
   ]
  },
  {
   "cell_type": "markdown",
   "metadata": {},
   "source": [
    "101\n",
    "Using program 100, ask the user for a name and a region. Display the relevant data. Ask\n",
    "the user for the name and region of data they want to change and allow them to make\n",
    "the alteration to the sales figure. Display the sales for all regions for the name they\n",
    "choose."
   ]
  },
  {
   "cell_type": "code",
   "execution_count": 6,
   "metadata": {},
   "outputs": [
    {
     "name": "stdout",
     "output_type": "stream",
     "text": [
      "4832\n",
      "{'N': 5239, 'S': 4884, 'E': 5820, 'W': 1859}\n"
     ]
    }
   ],
   "source": [
    "sales= {'John' : {'N' : 3056, 'S' : 8463, 'E' : 8441, 'W' : 2694},\n",
    "        'Tom' : {'N' : 4832, 'S' : 6786, 'E' : 4737, 'W' : 3612},\n",
    "        'Anne' : {'N' : 5239, 'S' : 4802, 'E' : 5820, 'W' : 1859},\n",
    "        'Fiona' : {'N' : 3904, 'S' : 3645, 'E' : 8821, 'W' : 2451}}\n",
    "name= input('Please enter a name: ').capitalize()\n",
    "region= input('Please enter a region(N/S/E/W): ').upper()\n",
    "print(sales[name][region])\n",
    "name= input('Please enter a name for change: ').capitalize()\n",
    "region= input('Please enter a region(N/S/E/W) for change: ').upper()\n",
    "new_val= int(input('Please enter the new value: '))\n",
    "sales[name][region]= new_val\n",
    "print(sales[name])"
   ]
  },
  {
   "cell_type": "markdown",
   "metadata": {},
   "source": [
    "----"
   ]
  },
  {
   "cell_type": "markdown",
   "metadata": {},
   "source": [
    "102\n",
    "Ask the user to enter the name, age and shoe size for four\n",
    "people. Ask for the name of one of the people in the list and\n",
    "display their age and shoe size."
   ]
  },
  {
   "cell_type": "code",
   "execution_count": 7,
   "metadata": {},
   "outputs": [
    {
     "name": "stdout",
     "output_type": "stream",
     "text": [
      "{'Erfan': {'age': 24, 'shoe size': 42}, 'Nafas': {'age': 28, 'shoe size': 36}, 'Nayereh': {'age': 51, 'shoe size': 37}, 'Ali': {'age': 54, 'shoe size': 40}}\n",
      "{'age': 24, 'shoe size': 42}\n"
     ]
    }
   ],
   "source": [
    "ls= {}\n",
    "for i in range(4):\n",
    "    name= input(f\"Please enter the name of person {i + 1}: \").capitalize()\n",
    "    age= int(input(f\"Please enter the age of person {i + 1}: \"))\n",
    "    shoe_size= int(input(f\"Please enter the shoe size of person {i + 1}: \"))\n",
    "    ls[name]= {'age' : age, 'shoe size' : shoe_size}\n",
    "print(ls)\n",
    "name= input('Please select a name from the list: ').capitalize()\n",
    "print(ls[name])"
   ]
  },
  {
   "cell_type": "markdown",
   "metadata": {},
   "source": [
    "----"
   ]
  },
  {
   "cell_type": "markdown",
   "metadata": {},
   "source": [
    "103\n",
    "Adapt program 102\n",
    "to display the\n",
    "names and ages of\n",
    "all the people in\n",
    "the list but do not\n",
    "show their shoe\n",
    "size."
   ]
  },
  {
   "cell_type": "code",
   "execution_count": 8,
   "metadata": {},
   "outputs": [
    {
     "name": "stdout",
     "output_type": "stream",
     "text": [
      "{'Erfan': {'age': 24, 'shoe size': 42}, 'Nafas': {'age': 28, 'shoe size': 36}, 'Nayereh': {'age': 51, 'shoe size': 37}, 'Ali': {'age': 54, 'shoe size': 40}}\n",
      "Erfan : 24\n",
      "Nafas : 28\n",
      "Nayereh : 51\n",
      "Ali : 54\n"
     ]
    }
   ],
   "source": [
    "ls= {}\n",
    "for i in range(4):\n",
    "    name= input(f\"Please enter the name of person {i + 1}: \").capitalize()\n",
    "    age= int(input(f\"Please enter the age of person {i + 1}: \"))\n",
    "    shoe_size= int(input(f\"Please enter the shoe size of person {i + 1}: \"))\n",
    "    ls[name]= {'age' : age, 'shoe size' : shoe_size}\n",
    "print(ls)\n",
    "for name in ls:\n",
    "    print(f\"{name} : {ls[name]['age']}\")"
   ]
  },
  {
   "cell_type": "markdown",
   "metadata": {},
   "source": [
    "----"
   ]
  },
  {
   "cell_type": "markdown",
   "metadata": {},
   "source": [
    "104\n",
    "After gathering the four names, ages and shoe sizes, ask the\n",
    "user to enter the name of the person they want to remove from\n",
    "the list. Delete this row from the data and display the other rows\n",
    "on separate lines."
   ]
  },
  {
   "cell_type": "code",
   "execution_count": 9,
   "metadata": {},
   "outputs": [
    {
     "name": "stdout",
     "output_type": "stream",
     "text": [
      "{'Erfan': {'age': 24, 'shoe size': 42}, 'Nafas': {'age': 28, 'shoe size': 36}, 'Nayereh': {'age': 51, 'shoe size': 37}, 'Ali': {'age': 54, 'shoe size': 40}}\n",
      "Nafas : {'age': 28, 'shoe size': 36}\n",
      "Nayereh : {'age': 51, 'shoe size': 37}\n",
      "Ali : {'age': 54, 'shoe size': 40}\n"
     ]
    }
   ],
   "source": [
    "ls= {}\n",
    "for i in range(4):\n",
    "    name= input(f\"Please enter the name of person {i + 1}: \").capitalize()\n",
    "    age= int(input(f\"Please enter the age of person {i + 1}: \"))\n",
    "    shoe_size= int(input(f\"Please enter the shoe size of person {i + 1}: \"))\n",
    "    ls[name]= {'age' : age, 'shoe size' : shoe_size}\n",
    "print(ls)\n",
    "name= input('Which person do you want to remove from the list? ').capitalize()\n",
    "del ls[name]\n",
    "for name in ls:\n",
    "    print(f\"{name} : {ls[name]}\")"
   ]
  }
 ],
 "metadata": {
  "kernelspec": {
   "display_name": "Qvenv",
   "language": "python",
   "name": "qvenv"
  },
  "language_info": {
   "codemirror_mode": {
    "name": "ipython",
    "version": 3
   },
   "file_extension": ".py",
   "mimetype": "text/x-python",
   "name": "python",
   "nbconvert_exporter": "python",
   "pygments_lexer": "ipython3",
   "version": "3.10.0"
  }
 },
 "nbformat": 4,
 "nbformat_minor": 2
}
