{
 "cells": [
  {
   "cell_type": "markdown",
   "metadata": {},
   "source": [
    "# Hi :)"
   ]
  },
  {
   "cell_type": "markdown",
   "metadata": {},
   "source": [
    "----"
   ]
  },
  {
   "cell_type": "markdown",
   "metadata": {},
   "source": [
    "118\n",
    "Define a subprogram that will ask the user to\n",
    "enter a number and save it as the variable\n",
    "“num”. Define another subprogram that will\n",
    "use “num” and count from 1 to that number."
   ]
  },
  {
   "cell_type": "code",
   "execution_count": 1,
   "metadata": {},
   "outputs": [
    {
     "name": "stdout",
     "output_type": "stream",
     "text": [
      "0\n",
      "1\n",
      "2\n",
      "3\n",
      "4\n"
     ]
    }
   ],
   "source": [
    "def get_number():\n",
    "    num= int(input('Please enter an integer number: '))\n",
    "    return num\n",
    "\n",
    "def counting(num):\n",
    "    for i in range(num + 1):\n",
    "        print(i)\n",
    "\n",
    "def main():\n",
    "    num= get_number()\n",
    "    counting(num)\n",
    "\n",
    "main()"
   ]
  },
  {
   "cell_type": "markdown",
   "metadata": {},
   "source": [
    "----"
   ]
  },
  {
   "cell_type": "markdown",
   "metadata": {},
   "source": [
    "119\n",
    "Define a subprogram\n",
    "that will ask the user to\n",
    "pick a low and a high\n",
    "number, and then\n",
    "generate a random\n",
    "number between those\n",
    "two values and store it in\n",
    "a variable called\n",
    "“comp_num”.\n",
    "Define another\n",
    "subprogram that will\n",
    "give the instruction “I am\n",
    "thinking of a number…”\n",
    "and then ask the user to\n",
    "guess the number they\n",
    "are thinking of.\n",
    "Define a third\n",
    "subprogram that will\n",
    "check to see if the\n",
    "comp_num is the same\n",
    "as the user’s guess. If it\n",
    "is, it should display the\n",
    "message “Correct, you\n",
    "win”, otherwise it should\n",
    "keep looping, telling the\n",
    "user if they are too low or\n",
    "too high and asking them\n",
    "to guess again until they\n",
    "guess correctly."
   ]
  },
  {
   "cell_type": "code",
   "execution_count": 2,
   "metadata": {},
   "outputs": [
    {
     "name": "stdout",
     "output_type": "stream",
     "text": [
      "Too low\n",
      "Too low\n",
      "Too low\n",
      "Too low\n",
      "Too high\n",
      "Correct, you win\n"
     ]
    }
   ],
   "source": [
    "import random\n",
    "\n",
    "def random_number():\n",
    "    lower= int(input('Please enter a low integer number: '))\n",
    "    higher= int(input('Please enter a high integer number: '))\n",
    "    comp_num= random.randint(lower, higher)\n",
    "    return comp_num\n",
    "\n",
    "def guess():\n",
    "    guess_num= int(input(\"I am thinking of a number...\\nwhat do you think the number is? \"))\n",
    "    return guess_num\n",
    "\n",
    "def check_number():\n",
    "    rand_num= random_number()\n",
    "    guess_num= guess()\n",
    "    while True:\n",
    "        if rand_num == guess_num:\n",
    "            print('Correct, you win')\n",
    "            break\n",
    "        else:\n",
    "            print('Too high') if (rand_num < guess_num) else print('Too low')\n",
    "            guess_num= guess()\n",
    "\n",
    "check_number()"
   ]
  },
  {
   "cell_type": "markdown",
   "metadata": {},
   "source": [
    "----"
   ]
  },
  {
   "cell_type": "markdown",
   "metadata": {},
   "source": [
    "120\n",
    "Display the following menu to the user:(page 102)\n",
    "If they enter a 1, it should run a subprogram that will\n",
    "generate two random numbers between 5 and 20, and\n",
    "ask the user to add them together. Work out the correct\n",
    "answer and return both the user’s answer and the\n",
    "correct answer.\n",
    "If they entered 2 as their selection on the menu, it\n",
    "should run a subprogram that will generate one number\n",
    "between 25 and 50 and another number between 1 and\n",
    "25 and ask them to work out num1 minus num2. This\n",
    "way they will not have to worry about negative answers.\n",
    "Return both the user’s answer and the correct answer.\n",
    "Create another subprogram that will check if the user’s\n",
    "answer matches the actual answer. If it does, display\n",
    "“Correct”, otherwise display a message that will say\n",
    "“Incorrect, the answer is” and display the real answer.\n",
    "If they do not select a relevant option on the first menu\n",
    "you should display a suitable message. "
   ]
  },
  {
   "cell_type": "code",
   "execution_count": 3,
   "metadata": {},
   "outputs": [
    {
     "name": "stdout",
     "output_type": "stream",
     "text": [
      "Correct\n"
     ]
    }
   ],
   "source": [
    "import random\n",
    "\n",
    "def addition():\n",
    "    num1= random.randint(5, 20)\n",
    "    num2= random.randint(5, 20)\n",
    "    answer= int(input(f\"{num1}+{num2}= \"))\n",
    "    return num1 + num2, answer\n",
    "\n",
    "def subtraction():\n",
    "    num1= random.randint(25, 50)\n",
    "    num2= random.randint(1, 25)\n",
    "    answer= int(input(f\"{num1}-{num2}= \"))\n",
    "    return num1 - num2, answer\n",
    "\n",
    "def check_answer(correct_answer, user_answer):\n",
    "    if correct_answer == user_answer:\n",
    "        print('Correct')\n",
    "    else:\n",
    "        print(f\"Incorrect, the answer is {correct_answer}\")\n",
    "\n",
    "selection= input('1) Addition\\n2) Subtraction\\nEnter 1 or 2: ')\n",
    "if selection == '1':\n",
    "    correct_answer, user_answer= addition()\n",
    "    check_answer(correct_answer, user_answer)\n",
    "elif selection == '2':\n",
    "    correct_answer, user_answer= subtraction()\n",
    "    check_answer(correct_answer, user_answer)\n",
    "else:\n",
    "    print(f\"Error, there is not {selection} option\")"
   ]
  },
  {
   "cell_type": "markdown",
   "metadata": {},
   "source": [
    "----"
   ]
  },
  {
   "cell_type": "markdown",
   "metadata": {},
   "source": [
    "121\n",
    "Create a program that will allow the user to easily manage a list of names. You should\n",
    "display a menu that will allow them to add a name to the list, change a name in the\n",
    "list, delete a name from the list or view all the names in the list. There should also be a\n",
    "menu option to allow the user to end the program. If they select an option that is not\n",
    "relevant, then it should display a suitable message. After they have made a selection\n",
    "to either add a name, change a name, delete a name or view all the names, they\n",
    "should see the menu again without having to restart the program. The program\n",
    "should be made as easy to use as possible."
   ]
  },
  {
   "cell_type": "code",
   "execution_count": 4,
   "metadata": {},
   "outputs": [
    {
     "name": "stdout",
     "output_type": "stream",
     "text": [
      "0: Erfan\n",
      "0: Erfan\n",
      "1: Nafas\n",
      "0: Erfan\n",
      "1: Nafas\n",
      "2: Nayereh\n",
      "0: Erfan\n",
      "1: Nafas\n",
      "2: Nayereh\n",
      "3: Ali\n",
      "0: Erfan\n",
      "1: Nafas\n",
      "2: Nayereh\n",
      "3: Ali\n",
      "4: niousha\n",
      "0: Erfan\n",
      "1: Nafas\n",
      "2: Nayereh\n",
      "3: Ali\n",
      "4: niousha\n",
      "0: Erfan\n",
      "1: Nafas\n",
      "2: Nayereh\n",
      "3: Ali\n",
      "4: Niousha\n",
      "0: Erfan\n",
      "1: Nafas\n",
      "2: Nayereh\n",
      "3: Ali\n",
      "4: Niousha\n",
      "0: Erfan\n",
      "1: Nafas\n",
      "2: Nayereh\n",
      "3: Ali\n",
      "0: Erfan\n",
      "1: Nafas\n",
      "2: Nayereh\n",
      "3: Ali\n",
      "0: Erfan\n",
      "1: Nafas\n",
      "2: Nayereh\n",
      "3: Ali\n"
     ]
    }
   ],
   "source": [
    "def view(ls):\n",
    "    for i in range(len(ls)):\n",
    "        print(f\"{i}: {ls[i]}\")\n",
    "\n",
    "def add(ls):\n",
    "    ls.append(input('Please enter the new name: '))\n",
    "    return ls\n",
    "\n",
    "def change(ls):\n",
    "    view(ls)\n",
    "    selection= int(input('Which part do you want to change? '))\n",
    "    ls[selection]= input('Please enter the new value: ')\n",
    "    return ls\n",
    "\n",
    "def delete(ls):\n",
    "    view(ls)\n",
    "    selection= int(input('Which part do you want to delete? '))\n",
    "    del ls[selection]\n",
    "    return ls\n",
    "\n",
    "names= []\n",
    "while True:\n",
    "    selection= input('1)Add\\n2)change\\n3)delete\\n4)view\\n5)exit\\nPlease enter your choice: ')\n",
    "    if selection == '1':\n",
    "        names= add(names)\n",
    "        view(names)\n",
    "    elif selection == '2':\n",
    "        names= change(names)\n",
    "        view(names)\n",
    "    elif selection == '3':\n",
    "        names= delete(names)\n",
    "        view(names)\n",
    "    elif selection == '4':\n",
    "        view(names)\n",
    "    elif selection == '5':\n",
    "        view(names)\n",
    "        break\n",
    "    else:\n",
    "        print('Error, wrong number')"
   ]
  },
  {
   "cell_type": "markdown",
   "metadata": {},
   "source": [
    "----"
   ]
  },
  {
   "cell_type": "markdown",
   "metadata": {},
   "source": [
    "122\n",
    "Create the following menu:(page 103)\n",
    "If the user selects 1, allow them to add to a file\n",
    "called Salaries.csv which will store their name\n",
    "and salary. If they select 2 it should display all\n",
    "records in the Salaries.csv file. If they select 3 it\n",
    "should stop the program. If they select an\n",
    "incorrect option they should see an error\n",
    "message. They should keep returning to the\n",
    "menu until they select option 3."
   ]
  },
  {
   "cell_type": "code",
   "execution_count": 5,
   "metadata": {},
   "outputs": [
    {
     "name": "stdout",
     "output_type": "stream",
     "text": [
      "erfan,84\n",
      "\n",
      "nafas,48\n",
      "\n",
      "erfan,48\n",
      "\n"
     ]
    }
   ],
   "source": [
    "import csv\n",
    "\n",
    "def add_to_file():\n",
    "    file= open('Files/Salaries.csv', 'a')\n",
    "    name= input('Please enter the name: ').lower()\n",
    "    salary= input('Please enter the salary: ')\n",
    "    file.write(name + ',' + salary + '\\n')\n",
    "    file.close()\n",
    "\n",
    "def view_file():\n",
    "    file= open('Files/Salaries.csv', 'r')\n",
    "    for row in file:\n",
    "        print(row)\n",
    "    file.close()\n",
    "\n",
    "while True:\n",
    "    selection= input('1)Add to file\\n2)View all records\\n3)Quit program\\n\\nEnter the number of your selection: ')\n",
    "    if selection == '1':\n",
    "        add_to_file()\n",
    "    elif selection == '2':\n",
    "        view_file()\n",
    "    elif selection == '3':\n",
    "        break\n",
    "    else:\n",
    "        print('Error, wrong number')"
   ]
  },
  {
   "cell_type": "markdown",
   "metadata": {},
   "source": [
    "----"
   ]
  },
  {
   "cell_type": "markdown",
   "metadata": {},
   "source": [
    "123\n",
    "In Python, it is not technically possible to directly\n",
    "delete a record from a .csv file. Instead you need\n",
    "to save the file to a temporary list in Python,\n",
    "make the changes to the list and then overwrite\n",
    "the original file with the temporary list.\n",
    "Change the previous program to allow you to do\n",
    "this. Your menu should now look like this:(page 103)"
   ]
  },
  {
   "cell_type": "code",
   "execution_count": 6,
   "metadata": {},
   "outputs": [
    {
     "name": "stdout",
     "output_type": "stream",
     "text": [
      "0: erfan,84\n",
      "\n",
      "1: nafas,48\n",
      "\n",
      "2: erfan,48\n",
      "\n",
      "3: erfan,84\n",
      "\n",
      "0: erfan,84\n",
      "\n",
      "1: nafas,48\n",
      "\n",
      "2: erfan,48\n",
      "\n",
      "3: erfan,84\n",
      "\n",
      "0: erfan,84\n",
      "\n",
      "1: nafas,48\n",
      "\n",
      "2: erfan,84\n",
      "\n"
     ]
    }
   ],
   "source": [
    "import csv\n",
    "\n",
    "def add_to_file():\n",
    "    file= open('Files/Salaries.csv', 'a')\n",
    "    name= input('Please enter the name: ').lower()\n",
    "    salary= input('Please enter the salary: ')\n",
    "    file.write(name + ',' + salary + '\\n')\n",
    "    file.close()\n",
    "\n",
    "def view_file():\n",
    "    file= open('Files/Salaries.csv', 'r')\n",
    "    i= 0\n",
    "    for row in file:\n",
    "        print(f\"{i}: {row}\")\n",
    "        i += 1\n",
    "    file.close()\n",
    "\n",
    "def delete_record():\n",
    "    file= open('Files/Salaries.csv', 'r')\n",
    "    ls= []\n",
    "    i= 0\n",
    "    for row in file:\n",
    "        print(f\"{i}: {row}\")\n",
    "        i += 1\n",
    "        ls.append(row)\n",
    "    delete_row= int(input('Which row do you want to delete? '))\n",
    "    del ls[delete_row]\n",
    "    file= open('Files/Salaries.csv', 'w')\n",
    "    for row in ls:\n",
    "        file.write(row)\n",
    "    file.close()\n",
    "\n",
    "while True:\n",
    "    selection= input('1)Add to file\\n2)View all records\\n3)Delete a record\\n4)Quit program\\n\\nEnter the number of your selection: ')\n",
    "    if selection == '1':\n",
    "        add_to_file()\n",
    "    elif selection == '2':\n",
    "        view_file()\n",
    "    elif selection == '3':\n",
    "        delete_record()\n",
    "    elif selection == '4':\n",
    "        break\n",
    "    else:\n",
    "        print('Error, wrong number')"
   ]
  }
 ],
 "metadata": {
  "kernelspec": {
   "display_name": "Qvenv",
   "language": "python",
   "name": "qvenv"
  },
  "language_info": {
   "codemirror_mode": {
    "name": "ipython",
    "version": 3
   },
   "file_extension": ".py",
   "mimetype": "text/x-python",
   "name": "python",
   "nbconvert_exporter": "python",
   "pygments_lexer": "ipython3",
   "version": "3.10.0"
  }
 },
 "nbformat": 4,
 "nbformat_minor": 2
}
