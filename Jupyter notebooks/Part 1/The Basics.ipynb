{
 "cells": [
  {
   "cell_type": "markdown",
   "metadata": {},
   "source": [
    "# Hi :)"
   ]
  },
  {
   "cell_type": "markdown",
   "metadata": {},
   "source": [
    "001\n",
    "Ask for the user’s first name and\n",
    "display the output message\n",
    "Hello [First Name] . "
   ]
  },
  {
   "cell_type": "code",
   "execution_count": 1,
   "metadata": {},
   "outputs": [
    {
     "name": "stdout",
     "output_type": "stream",
     "text": [
      "Hello Erfan\n"
     ]
    }
   ],
   "source": [
    "first_name= input('Please enter your first name: ')\n",
    "print(f\"Hello {first_name}\")"
   ]
  },
  {
   "cell_type": "markdown",
   "metadata": {},
   "source": [
    "002\n",
    "Ask for the user’s first name and then ask for\n",
    "their surname and display the output message\n",
    "Hello [First Name] [Surname]. "
   ]
  },
  {
   "cell_type": "code",
   "execution_count": 2,
   "metadata": {},
   "outputs": [
    {
     "name": "stdout",
     "output_type": "stream",
     "text": [
      "Hello Erfan Joodi\n"
     ]
    }
   ],
   "source": [
    "first_name= input('Please enter your first name: ')\n",
    "surname= input('Please enter your surname: ')\n",
    "print(f\"Hello {first_name} {surname}\")"
   ]
  },
  {
   "cell_type": "markdown",
   "metadata": {},
   "source": [
    "003\n",
    "Write code that will display the joke “What do you call a bear with no\n",
    "teeth?” and on the next line display the answer “A gummy bear!” Try to\n",
    "create it using only one line of code. "
   ]
  },
  {
   "cell_type": "code",
   "execution_count": 3,
   "metadata": {},
   "outputs": [
    {
     "name": "stdout",
     "output_type": "stream",
     "text": [
      "What do you call a bear with no teeth?\n",
      "Agummy bear!\n"
     ]
    }
   ],
   "source": [
    "print(\"What do you call a bear with no teeth?\\nAgummy bear!\")"
   ]
  },
  {
   "cell_type": "markdown",
   "metadata": {},
   "source": [
    "004\n",
    "Ask the user to enter\n",
    "two numbers. Add\n",
    "them together and\n",
    "display the answer as\n",
    "The total is\n",
    "[answer]. "
   ]
  },
  {
   "cell_type": "code",
   "execution_count": 4,
   "metadata": {},
   "outputs": [
    {
     "name": "stdout",
     "output_type": "stream",
     "text": [
      "The total is 12\n"
     ]
    }
   ],
   "source": [
    "number1= int(input('Please enter your first number: '))\n",
    "number2= int(input('Please enter your second number: '))\n",
    "print(f\"The total is {number1 + number2}\")"
   ]
  },
  {
   "cell_type": "markdown",
   "metadata": {},
   "source": [
    "005\n",
    "Ask the user to enter three\n",
    "numbers. Add together the first\n",
    "two numbers and then multiply\n",
    "this total by the third. Display the\n",
    "answer as The answer is\n",
    "[answer]. "
   ]
  },
  {
   "cell_type": "code",
   "execution_count": 5,
   "metadata": {},
   "outputs": [
    {
     "name": "stdout",
     "output_type": "stream",
     "text": [
      "The answer is 576\n"
     ]
    }
   ],
   "source": [
    "number1= int(input('Please enter your first number: '))\n",
    "number2= int(input('Please enter your second number: '))\n",
    "number3= int(input('Please enter your third number: '))\n",
    "print(f\"The answer is {(number1 + number2) * number3}\")"
   ]
  },
  {
   "cell_type": "markdown",
   "metadata": {},
   "source": [
    "006\n",
    "Ask how many slices\n",
    "of pizza the user\n",
    "started with and ask\n",
    "how many slices\n",
    "they have eaten.\n",
    "Work out how many\n",
    "slices they have left\n",
    "and display the\n",
    "answer in a userfriendly format."
   ]
  },
  {
   "cell_type": "code",
   "execution_count": 6,
   "metadata": {},
   "outputs": [
    {
     "name": "stdout",
     "output_type": "stream",
     "text": [
      "Ok, that means there is 4 slices of pizza left to eat :)\n"
     ]
    }
   ],
   "source": [
    "all_slices= int(input('Please tell me how many silces of pizza did you have? '))\n",
    "eaten_slices= int(input('How many slices of pizza did you eat?'))\n",
    "print(f\"Ok, that means there is {all_slices - eaten_slices} slices of pizza left to eat :)\")"
   ]
  },
  {
   "cell_type": "markdown",
   "metadata": {},
   "source": [
    "007\n",
    "Ask the user for their name and their age. Add 1 to their age\n",
    "and display the output [Name] next birthday you\n",
    "will be [new age]. "
   ]
  },
  {
   "cell_type": "code",
   "execution_count": 7,
   "metadata": {},
   "outputs": [
    {
     "name": "stdout",
     "output_type": "stream",
     "text": [
      "Erfan next birthday you will be 25\n"
     ]
    }
   ],
   "source": [
    "name= input('Please enter your name: ')\n",
    "age= int(input('Please enter your age: '))\n",
    "print(f\"{name} next birthday you will be {age + 1}\")"
   ]
  },
  {
   "cell_type": "markdown",
   "metadata": {},
   "source": [
    "008\n",
    "Ask for the total price of the bill, then ask how\n",
    "many diners there are. Divide the total bill by the\n",
    "number of diners and show how much each\n",
    "person must pay. "
   ]
  },
  {
   "cell_type": "code",
   "execution_count": 8,
   "metadata": {},
   "outputs": [
    {
     "name": "stdout",
     "output_type": "stream",
     "text": [
      "Each person should pay 123000.0\n"
     ]
    }
   ],
   "source": [
    "total_bill= float(input('How much did you pay? '))\n",
    "number_of_persons= int(input('How many diners are there? '))\n",
    "print(f\"Each person should pay {round(total_bill / number_of_persons, 2)}\")"
   ]
  },
  {
   "cell_type": "markdown",
   "metadata": {},
   "source": [
    "009\n",
    "Write a program\n",
    "that will ask for a\n",
    "number of days\n",
    "and then will\n",
    "show how many\n",
    "hours, minutes\n",
    "and seconds are\n",
    "in that number of\n",
    "days. "
   ]
  },
  {
   "cell_type": "code",
   "execution_count": 9,
   "metadata": {},
   "outputs": [
    {
     "name": "stdout",
     "output_type": "stream",
     "text": [
      "There is 1152 hours, 69120 minutes, 4147200 seconds in 48 day\n"
     ]
    }
   ],
   "source": [
    "days= int(input('Please enter the number of days? '))\n",
    "print(f\"There is {days * 24} hours, {days * 24 * 60} minutes, {days * 24 * 60 * 60} seconds in {days} day\")"
   ]
  },
  {
   "cell_type": "markdown",
   "metadata": {},
   "source": [
    "010\n",
    "There are 2,204 pounds in a kilogram. Ask the\n",
    "user to enter a weight in kilograms and convert it\n",
    "to pounds. "
   ]
  },
  {
   "cell_type": "code",
   "execution_count": 10,
   "metadata": {},
   "outputs": [
    {
     "name": "stdout",
     "output_type": "stream",
     "text": [
      "It means that your weight is 149.87lb\n"
     ]
    }
   ],
   "source": [
    "kilogram= float(input('Please enter your weight in Kilogram: '))\n",
    "print(f\"It means that your weight is {round(kilogram * 2.204, 2)}lb\")"
   ]
  },
  {
   "cell_type": "markdown",
   "metadata": {},
   "source": [
    "011\n",
    "Task the user to enter a number over 100 and then enter a number under\n",
    "10 and tell them how many times the smaller number goes into the larger\n",
    "number in a user-friendly format. "
   ]
  },
  {
   "cell_type": "code",
   "execution_count": 11,
   "metadata": {},
   "outputs": [
    {
     "name": "stdout",
     "output_type": "stream",
     "text": [
      "4 goes into 184, 46 times\n"
     ]
    }
   ],
   "source": [
    "large_number= int(input('Please enter a number over 100: '))\n",
    "small_number= int(input('Please enter a number under 10: '))\n",
    "print(f\"{small_number} goes into {large_number}, {large_number // small_number} times\")"
   ]
  }
 ],
 "metadata": {
  "kernelspec": {
   "display_name": "Qvenv",
   "language": "python",
   "name": "qvenv"
  },
  "language_info": {
   "codemirror_mode": {
    "name": "ipython",
    "version": 3
   },
   "file_extension": ".py",
   "mimetype": "text/x-python",
   "name": "python",
   "nbconvert_exporter": "python",
   "pygments_lexer": "ipython3",
   "version": "3.10.0"
  }
 },
 "nbformat": 4,
 "nbformat_minor": 2
}
