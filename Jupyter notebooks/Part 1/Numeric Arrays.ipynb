{
 "cells": [
  {
   "cell_type": "markdown",
   "metadata": {},
   "source": [
    "# Hi :)"
   ]
  },
  {
   "cell_type": "markdown",
   "metadata": {},
   "source": [
    "----"
   ]
  },
  {
   "cell_type": "markdown",
   "metadata": {},
   "source": [
    "088\n",
    "Ask the user for a list of five\n",
    "integers. Store them in an array.\n",
    "Sort the list and display it in\n",
    "reverse order."
   ]
  },
  {
   "cell_type": "code",
   "execution_count": 1,
   "metadata": {},
   "outputs": [
    {
     "name": "stdout",
     "output_type": "stream",
     "text": [
      "[484, 84, 48, 8, 4]\n"
     ]
    }
   ],
   "source": [
    "from array import *\n",
    "\n",
    "nums= array('i', [])\n",
    "for i in range(5):\n",
    "    nums.append(int(input(f\"Please enter number{i + 1}: \")))\n",
    "nums= sorted(nums)\n",
    "nums.reverse()\n",
    "print(nums)"
   ]
  },
  {
   "cell_type": "markdown",
   "metadata": {},
   "source": [
    "----"
   ]
  },
  {
   "cell_type": "markdown",
   "metadata": {},
   "source": [
    "089\n",
    "Create an array which will store a list of integers.\n",
    "Generate five random numbers and store them in\n",
    "the array. Display the array (showing each item on\n",
    "a separate line)."
   ]
  },
  {
   "cell_type": "code",
   "execution_count": 2,
   "metadata": {},
   "outputs": [
    {
     "name": "stdout",
     "output_type": "stream",
     "text": [
      "83\n",
      "38\n",
      "49\n",
      "94\n",
      "67\n"
     ]
    }
   ],
   "source": [
    "from array import *\n",
    "import random\n",
    "\n",
    "nums= array('i', [])\n",
    "for i in range(5):\n",
    "    nums.append(random.randint(1, 100))\n",
    "for num in nums:\n",
    "    print(num)"
   ]
  },
  {
   "cell_type": "markdown",
   "metadata": {},
   "source": [
    "----"
   ]
  },
  {
   "cell_type": "markdown",
   "metadata": {},
   "source": [
    "090\n",
    "Ask the user to enter numbers. If they enter a\n",
    "number between 10 and 20, save it in the array,\n",
    "otherwise display the message “Outside the\n",
    "range”. Once five numbers have been\n",
    "successfully added, display the message “Thank\n",
    "you” and display the array with each item shown\n",
    "on a separate line."
   ]
  },
  {
   "cell_type": "code",
   "execution_count": 3,
   "metadata": {},
   "outputs": [
    {
     "name": "stdout",
     "output_type": "stream",
     "text": [
      "Outside the range\n",
      "Outside the range\n",
      "Thank you\n",
      "12\n",
      "14\n",
      "16\n",
      "18\n",
      "14\n"
     ]
    }
   ],
   "source": [
    "from array import *\n",
    "\n",
    "nums= array('i', [])\n",
    "while (len(nums) < 5):\n",
    "    num= int(input('Please enter an integer number between 10 and 20: '))\n",
    "    if (10 < num < 20):\n",
    "        nums.append(num)\n",
    "    else:\n",
    "        print('Outside the range')\n",
    "print('Thank you')\n",
    "for num in nums:\n",
    "    print(num)"
   ]
  },
  {
   "cell_type": "markdown",
   "metadata": {},
   "source": [
    "----"
   ]
  },
  {
   "cell_type": "markdown",
   "metadata": {},
   "source": [
    "091\n",
    "Create an array which contains\n",
    "five numbers (two of which\n",
    "should be repeated). Display\n",
    "the whole array to the user. Ask\n",
    "the user to enter one of the\n",
    "numbers from the array and\n",
    "then display a message saying\n",
    "how many times that number\n",
    "appears in the list."
   ]
  },
  {
   "cell_type": "code",
   "execution_count": 4,
   "metadata": {},
   "outputs": [
    {
     "name": "stdout",
     "output_type": "stream",
     "text": [
      "2\n"
     ]
    }
   ],
   "source": [
    "from array import *\n",
    "\n",
    "nums= array('i', [4, 4, 8, 8, 48])\n",
    "num= int(input(f\"Please choose a number from {nums}: \"))\n",
    "print(nums.count(num))"
   ]
  },
  {
   "cell_type": "markdown",
   "metadata": {},
   "source": [
    "----"
   ]
  },
  {
   "cell_type": "markdown",
   "metadata": {},
   "source": [
    "092\n",
    "Create two arrays (one\n",
    "containing three numbers that\n",
    "the user enters and one\n",
    "containing a set of five random\n",
    "numbers). Join these two arrays\n",
    "together into one large array.\n",
    "Sort this large array and display\n",
    "it so that each number appears\n",
    "on a separate line."
   ]
  },
  {
   "cell_type": "code",
   "execution_count": 5,
   "metadata": {},
   "outputs": [
    {
     "name": "stdout",
     "output_type": "stream",
     "text": [
      "2\n",
      "4\n",
      "4\n",
      "8\n",
      "45\n",
      "48\n",
      "85\n",
      "96\n"
     ]
    }
   ],
   "source": [
    "from array import *\n",
    "import random\n",
    "\n",
    "user_nums= array('i', [])\n",
    "for i in range(3):\n",
    "    user_nums.append(int(input(f\"Please enter number{i + 1}: \")))\n",
    "com_nums= array('i', [])\n",
    "for i in range(5):\n",
    "    com_nums.append(random.randint(1, 100))\n",
    "user_nums.extend(com_nums)\n",
    "user_nums= sorted(user_nums)\n",
    "for num in user_nums:\n",
    "    print(num)"
   ]
  },
  {
   "cell_type": "markdown",
   "metadata": {},
   "source": [
    "----"
   ]
  },
  {
   "cell_type": "markdown",
   "metadata": {},
   "source": [
    "093\n",
    "Ask the user to enter five\n",
    "numbers. Sort them into order\n",
    "and present them to the user.\n",
    "Ask them to select one of the\n",
    "numbers. Remove it from the\n",
    "original array and save it in a\n",
    "new array."
   ]
  },
  {
   "cell_type": "code",
   "execution_count": 6,
   "metadata": {},
   "outputs": [
    {
     "name": "stdout",
     "output_type": "stream",
     "text": [
      "[4, 8, 48, 84, 484]\n",
      "[4, 8, 48, 84]\n",
      "array('i', [484])\n"
     ]
    }
   ],
   "source": [
    "from array import *\n",
    "\n",
    "nums= array('i', [])\n",
    "for i in range(5):\n",
    "    nums.append(int(input(f\"Please enter number{i + 1}: \")))\n",
    "nums= sorted(nums)\n",
    "print(nums)\n",
    "choice= int(input('Please select a number from previous array: '))\n",
    "nums.remove(choice)\n",
    "new_array= array('i', [choice])\n",
    "print(nums)\n",
    "print(new_array)"
   ]
  },
  {
   "cell_type": "markdown",
   "metadata": {},
   "source": [
    "----"
   ]
  },
  {
   "cell_type": "markdown",
   "metadata": {},
   "source": [
    "094\n",
    "Display an array of five\n",
    "numbers. Ask the user to\n",
    "select one of the numbers.\n",
    "Once they have selected a\n",
    "number, display the\n",
    "position of that item in the\n",
    "array. If they enter\n",
    "something that is not in\n",
    "the array, ask them to try\n",
    "again until they select a\n",
    "relevant item."
   ]
  },
  {
   "cell_type": "code",
   "execution_count": 7,
   "metadata": {},
   "outputs": [
    {
     "name": "stdout",
     "output_type": "stream",
     "text": [
      "Try again\n",
      "Try again\n",
      "2\n"
     ]
    }
   ],
   "source": [
    "from array import *\n",
    "\n",
    "nums= array('i', [4, 8, 48, 84, 484])\n",
    "while True:\n",
    "    num= int(input(f\"Please choose a number from {nums}: \"))\n",
    "    if num in nums:\n",
    "        print(nums.index(num))\n",
    "        break\n",
    "    else:\n",
    "        print('Try again')"
   ]
  },
  {
   "cell_type": "markdown",
   "metadata": {},
   "source": [
    "----"
   ]
  },
  {
   "cell_type": "markdown",
   "metadata": {},
   "source": [
    "095\n",
    "Create an array of five numbers\n",
    "between 10 and 100 which each have\n",
    "two decimal places. Ask the user to\n",
    "enter a whole number between 2 and 5.\n",
    "If they enter something outside of that\n",
    "range, display a suitable error message\n",
    "and ask them to try again until they\n",
    "enter a valid amount. Divide each of the\n",
    "numbers in the array by the number the\n",
    "user entered and display the answers\n",
    "shown to two decimal places."
   ]
  },
  {
   "cell_type": "code",
   "execution_count": 8,
   "metadata": {},
   "outputs": [
    {
     "name": "stdout",
     "output_type": "stream",
     "text": [
      "Try again\n",
      "Try again\n",
      "1.12\n",
      "1.21\n",
      "2.21\n",
      "2.12\n",
      "12.12\n"
     ]
    }
   ],
   "source": [
    "from array import *\n",
    "\n",
    "nums= array('f', [4.48, 4.84, 8.84, 8.48, 48.48])\n",
    "while True:\n",
    "    num= int(input('Please enter a number between 2 and 5: '))\n",
    "    if (2 < num < 5):\n",
    "        for i in nums:\n",
    "            print(round(i / num, 2))\n",
    "        break\n",
    "    else:\n",
    "        print('Try again')"
   ]
  }
 ],
 "metadata": {
  "kernelspec": {
   "display_name": "Qvenv",
   "language": "python",
   "name": "qvenv"
  },
  "language_info": {
   "codemirror_mode": {
    "name": "ipython",
    "version": 3
   },
   "file_extension": ".py",
   "mimetype": "text/x-python",
   "name": "python",
   "nbconvert_exporter": "python",
   "pygments_lexer": "ipython3",
   "version": "3.10.0"
  }
 },
 "nbformat": 4,
 "nbformat_minor": 2
}
