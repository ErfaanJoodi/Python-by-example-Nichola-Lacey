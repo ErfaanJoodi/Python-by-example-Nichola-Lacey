{
 "cells": [
  {
   "cell_type": "markdown",
   "metadata": {},
   "source": [
    "# Hi :)"
   ]
  },
  {
   "cell_type": "markdown",
   "metadata": {},
   "source": [
    "----"
   ]
  },
  {
   "cell_type": "markdown",
   "metadata": {},
   "source": [
    "020\n",
    "Ask the user to enter\n",
    "their first name and\n",
    "then display the\n",
    "length of their name."
   ]
  },
  {
   "cell_type": "code",
   "execution_count": 1,
   "metadata": {},
   "outputs": [
    {
     "name": "stdout",
     "output_type": "stream",
     "text": [
      "5\n"
     ]
    }
   ],
   "source": [
    "first_name= input('Please enter your first name: ')\n",
    "print(len(first_name))"
   ]
  },
  {
   "cell_type": "markdown",
   "metadata": {},
   "source": [
    "----"
   ]
  },
  {
   "cell_type": "markdown",
   "metadata": {},
   "source": [
    "021\n",
    "Ask the user to enter their first name and then ask them to\n",
    "enter their surname. Join them together with a space between\n",
    "and display the name and the length of whole name."
   ]
  },
  {
   "cell_type": "code",
   "execution_count": 2,
   "metadata": {},
   "outputs": [
    {
     "name": "stdout",
     "output_type": "stream",
     "text": [
      "Erfan Joodi , 11\n"
     ]
    }
   ],
   "source": [
    "first_name= input('Please enter your first name: ')\n",
    "surname= input('Please enter your surname: ')\n",
    "full_name= first_name + ' ' + surname\n",
    "print(full_name, ',', len(full_name))"
   ]
  },
  {
   "cell_type": "markdown",
   "metadata": {},
   "source": [
    "----"
   ]
  },
  {
   "cell_type": "markdown",
   "metadata": {},
   "source": [
    "022\n",
    "Ask the user to enter their first name and surname in lower\n",
    "case. Change the case to title case and join them together.\n",
    "Display the finished result."
   ]
  },
  {
   "cell_type": "code",
   "execution_count": 3,
   "metadata": {},
   "outputs": [
    {
     "name": "stdout",
     "output_type": "stream",
     "text": [
      "Erfan Joodi\n"
     ]
    }
   ],
   "source": [
    "first_name= input('Please enter your first name in lower case: ').title()\n",
    "surname= input('Please enter your surname in lower case: ').title()\n",
    "full_name= first_name + ' ' + surname\n",
    "print(full_name)"
   ]
  },
  {
   "cell_type": "markdown",
   "metadata": {},
   "source": [
    "----"
   ]
  },
  {
   "cell_type": "markdown",
   "metadata": {},
   "source": [
    "023\n",
    "Ask the user to type in the first\n",
    "line of a nursery rhyme and\n",
    "display the length of the string.\n",
    "Ask for a starting number and an\n",
    "ending number and then display\n",
    "just that section of the text\n",
    "(remember Python starts\n",
    "counting from 0 and not 1)."
   ]
  },
  {
   "cell_type": "code",
   "execution_count": 4,
   "metadata": {},
   "outputs": [
    {
     "name": "stdout",
     "output_type": "stream",
     "text": [
      "22\n",
      "oii d\n"
     ]
    }
   ],
   "source": [
    "nursery_rhyme= input('Please enter the first line of a nursery rhyme: ')\n",
    "print(len(nursery_rhyme))\n",
    "start_number= int(input('Please enter the starting number: '))\n",
    "end_number= int(input('Please enter the ending number: '))\n",
    "print(nursery_rhyme[(start_number - 1) : (end_number)])"
   ]
  },
  {
   "cell_type": "markdown",
   "metadata": {},
   "source": [
    "----"
   ]
  },
  {
   "cell_type": "markdown",
   "metadata": {},
   "source": [
    "024\n",
    "Ask the user to type in any word and display it in\n",
    "upper case."
   ]
  },
  {
   "cell_type": "code",
   "execution_count": 5,
   "metadata": {},
   "outputs": [
    {
     "name": "stdout",
     "output_type": "stream",
     "text": [
      "ERFAN\n"
     ]
    }
   ],
   "source": [
    "print(input('Please enter anything that you want: ').upper())"
   ]
  },
  {
   "cell_type": "markdown",
   "metadata": {},
   "source": [
    "----"
   ]
  },
  {
   "cell_type": "markdown",
   "metadata": {},
   "source": [
    "025\n",
    "Ask the user to enter their first name. If the length\n",
    "of their first name is under five characters, ask\n",
    "them to enter their surname and join them\n",
    "together (without a space) and display the name\n",
    "in upper case. If the length of the first name is five\n",
    "or more characters, display their first name in\n",
    "lower case."
   ]
  },
  {
   "cell_type": "code",
   "execution_count": 6,
   "metadata": {},
   "outputs": [
    {
     "name": "stdout",
     "output_type": "stream",
     "text": [
      "erfan\n"
     ]
    }
   ],
   "source": [
    "first_name= input('Please enter your first name: ')\n",
    "if (len(first_name) < 5):\n",
    "    print((first_name + input('Please enter your surname: ')).upper())\n",
    "else:\n",
    "    print(first_name.lower())"
   ]
  },
  {
   "cell_type": "markdown",
   "metadata": {},
   "source": [
    "----"
   ]
  },
  {
   "cell_type": "markdown",
   "metadata": {},
   "source": [
    "026\n",
    "Pig Latin takes the first consonant of a word,\n",
    "moves it to the end of the word and adds on an\n",
    "“ay”. If a word begins with a vowel you just add\n",
    "“way” to the end. For example, pig becomes igpay,\n",
    "banana becomes ananabay, and aadvark becomes\n",
    "aadvarkway. Create a program that will ask the\n",
    "user to enter a word and change it into Pig Latin.\n",
    "Make sure the new word is displayed in lower case."
   ]
  },
  {
   "cell_type": "code",
   "execution_count": 7,
   "metadata": {},
   "outputs": [
    {
     "name": "stdout",
     "output_type": "stream",
     "text": [
      "erfanway\n"
     ]
    }
   ],
   "source": [
    "word= input('Please enter any word that you want: ').lower()\n",
    "if (word[0] in ['o', 'u', 'a', 'e', 'i']):\n",
    "    pig_latin= word + 'way'\n",
    "else:\n",
    "    pig_latin= word[1 : ] + word[0] + 'ay'\n",
    "print(pig_latin)"
   ]
  }
 ],
 "metadata": {
  "kernelspec": {
   "display_name": "Qvenv",
   "language": "python",
   "name": "qvenv"
  },
  "language_info": {
   "codemirror_mode": {
    "name": "ipython",
    "version": 3
   },
   "file_extension": ".py",
   "mimetype": "text/x-python",
   "name": "python",
   "nbconvert_exporter": "python",
   "pygments_lexer": "ipython3",
   "version": "3.10.0"
  }
 },
 "nbformat": 4,
 "nbformat_minor": 2
}
