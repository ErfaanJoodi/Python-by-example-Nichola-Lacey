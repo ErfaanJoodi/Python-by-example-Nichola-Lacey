{
 "cells": [
  {
   "cell_type": "markdown",
   "metadata": {},
   "source": [
    "# Hi :)"
   ]
  },
  {
   "cell_type": "markdown",
   "metadata": {},
   "source": [
    "----"
   ]
  },
  {
   "cell_type": "markdown",
   "metadata": {},
   "source": [
    "035\n",
    "Ask the user to enter\n",
    "their name and then\n",
    "display their name\n",
    "three times."
   ]
  },
  {
   "cell_type": "code",
   "execution_count": 1,
   "metadata": {},
   "outputs": [
    {
     "name": "stdout",
     "output_type": "stream",
     "text": [
      "Erfan\n",
      "Erfan\n",
      "Erfan\n"
     ]
    }
   ],
   "source": [
    "name= input('Please enter your name: ')\n",
    "for i in range(3):\n",
    "    print(name)"
   ]
  },
  {
   "cell_type": "markdown",
   "metadata": {},
   "source": [
    "----"
   ]
  },
  {
   "cell_type": "markdown",
   "metadata": {},
   "source": [
    "036\n",
    "Alter program 035 so that it will ask the user to enter their\n",
    "name and a number and then display their name that\n",
    "number of times."
   ]
  },
  {
   "cell_type": "code",
   "execution_count": 2,
   "metadata": {},
   "outputs": [
    {
     "name": "stdout",
     "output_type": "stream",
     "text": [
      "Erfan\n",
      "Erfan\n",
      "Erfan\n",
      "Erfan\n"
     ]
    }
   ],
   "source": [
    "name= input('Please enter your name: ')\n",
    "number= int(input('Please enter an integer number: '))\n",
    "for i in range(number):\n",
    "    print(name)"
   ]
  },
  {
   "cell_type": "markdown",
   "metadata": {},
   "source": [
    "----"
   ]
  },
  {
   "cell_type": "markdown",
   "metadata": {},
   "source": [
    "037\n",
    "Ask the user to enter their name and display each letter in\n",
    "their name on a separate line."
   ]
  },
  {
   "cell_type": "code",
   "execution_count": 3,
   "metadata": {},
   "outputs": [
    {
     "name": "stdout",
     "output_type": "stream",
     "text": [
      "E\n",
      "r\n",
      "f\n",
      "a\n",
      "n\n"
     ]
    }
   ],
   "source": [
    "name= input('Please enter your name: ')\n",
    "for letter in name:\n",
    "    print(letter)"
   ]
  },
  {
   "cell_type": "markdown",
   "metadata": {},
   "source": [
    "----"
   ]
  },
  {
   "cell_type": "markdown",
   "metadata": {},
   "source": [
    "038\n",
    "Change program\n",
    "037 to also ask for a\n",
    "number. Display\n",
    "their name (one\n",
    "letter at a time on\n",
    "each line) and\n",
    "repeat this for the\n",
    "number of times\n",
    "they entered."
   ]
  },
  {
   "cell_type": "code",
   "execution_count": 4,
   "metadata": {},
   "outputs": [
    {
     "name": "stdout",
     "output_type": "stream",
     "text": [
      "E\n",
      "r\n",
      "f\n",
      "a\n",
      "n\n",
      "E\n",
      "r\n",
      "f\n",
      "a\n",
      "n\n",
      "E\n",
      "r\n",
      "f\n",
      "a\n",
      "n\n",
      "E\n",
      "r\n",
      "f\n",
      "a\n",
      "n\n"
     ]
    }
   ],
   "source": [
    "name= input('Please enter your name: ')\n",
    "number= int(input('Please enter an integer number: '))\n",
    "for i in range(number):\n",
    "    for letter in name:\n",
    "        print(letter)"
   ]
  },
  {
   "cell_type": "markdown",
   "metadata": {},
   "source": [
    "----"
   ]
  },
  {
   "cell_type": "markdown",
   "metadata": {},
   "source": [
    "039\n",
    "Ask the user to enter a number between 1\n",
    "and 12 and then display the times table for\n",
    "that number."
   ]
  },
  {
   "cell_type": "code",
   "execution_count": 5,
   "metadata": {},
   "outputs": [
    {
     "name": "stdout",
     "output_type": "stream",
     "text": [
      "1 * 4 = 4\n",
      "2 * 4 = 8\n",
      "3 * 4 = 12\n",
      "4 * 4 = 16\n",
      "5 * 4 = 20\n",
      "6 * 4 = 24\n",
      "7 * 4 = 28\n",
      "8 * 4 = 32\n",
      "9 * 4 = 36\n",
      "10 * 4 = 40\n",
      "11 * 4 = 44\n",
      "12 * 4 = 48\n"
     ]
    }
   ],
   "source": [
    "number= int(input('Please enter a number between 1 and 12'))\n",
    "for i in range(1, 13):\n",
    "    print(f\"{i} * {number} = {i * number}\")"
   ]
  },
  {
   "cell_type": "markdown",
   "metadata": {},
   "source": [
    "----"
   ]
  },
  {
   "cell_type": "markdown",
   "metadata": {},
   "source": [
    "040\n",
    "Ask for a number below 50 and then count down from\n",
    "50 to that number, making sure you show the number\n",
    "they entered in the output."
   ]
  },
  {
   "cell_type": "code",
   "execution_count": 6,
   "metadata": {},
   "outputs": [
    {
     "name": "stdout",
     "output_type": "stream",
     "text": [
      "50\n",
      "49\n",
      "48\n"
     ]
    }
   ],
   "source": [
    "number= int(input('Please enter an integer number below 50: '))\n",
    "for i in range(50, number - 1, -1):\n",
    "    print(i)"
   ]
  },
  {
   "cell_type": "markdown",
   "metadata": {},
   "source": [
    "----"
   ]
  },
  {
   "cell_type": "markdown",
   "metadata": {},
   "source": [
    "041\n",
    "Ask the user to enter their\n",
    "name and a number. If the\n",
    "number is less than 10, then\n",
    "display their name that\n",
    "number of times; otherwise\n",
    "display the message “Too\n",
    "high” three times."
   ]
  },
  {
   "cell_type": "code",
   "execution_count": 7,
   "metadata": {},
   "outputs": [
    {
     "name": "stdout",
     "output_type": "stream",
     "text": [
      "Erfan\n",
      "Erfan\n",
      "Erfan\n",
      "Erfan\n"
     ]
    }
   ],
   "source": [
    "name= input('Please enter your name: ')\n",
    "number= int(input('Please enter an integer number: '))\n",
    "if number < 10:\n",
    "    for i in range(number):\n",
    "        print(name)\n",
    "else:\n",
    "    for i in range(3):\n",
    "        print('Too high')"
   ]
  },
  {
   "cell_type": "markdown",
   "metadata": {},
   "source": [
    "----"
   ]
  },
  {
   "cell_type": "markdown",
   "metadata": {},
   "source": [
    "042\n",
    "Set a variable called total to 0. Ask the user to enter\n",
    "five numbers and after each input ask them if they\n",
    "want that number included. If they do, then add the\n",
    "number to the total. If they do not want it included,\n",
    "don’t add it to the total. After they have entered all five\n",
    "numbers, display the total."
   ]
  },
  {
   "cell_type": "code",
   "execution_count": 8,
   "metadata": {},
   "outputs": [
    {
     "name": "stdout",
     "output_type": "stream",
     "text": [
      "16.0\n"
     ]
    }
   ],
   "source": [
    "total= 0\n",
    "for i in range(5):\n",
    "    number= float(input(f\"Please enter number{i + 1}: \"))\n",
    "    answer= input(f\"Is number{i + 1} included?(yes/no) \").lower()\n",
    "    if answer == 'yes':\n",
    "        total += number\n",
    "print(total)"
   ]
  },
  {
   "cell_type": "markdown",
   "metadata": {},
   "source": [
    "----"
   ]
  },
  {
   "cell_type": "markdown",
   "metadata": {},
   "source": [
    "043\n",
    "Ask which direction the user wants to count (up or down). If they select up, then ask\n",
    "them for the top number and then count from 1 to that number. If they select down, ask\n",
    "them to enter a number below 20 and then count down from 20 to that number. If they\n",
    "entered something other than up or down, display the message “I don’t understand”."
   ]
  },
  {
   "cell_type": "code",
   "execution_count": 9,
   "metadata": {},
   "outputs": [
    {
     "name": "stdout",
     "output_type": "stream",
     "text": [
      "1\n",
      "2\n",
      "3\n",
      "4\n",
      "5\n",
      "6\n",
      "7\n",
      "8\n"
     ]
    }
   ],
   "source": [
    "direction= input('Please enter the direction(up/down): ').lower()\n",
    "if direction not in ['up', 'down']:\n",
    "    print(\"I don't understand\")\n",
    "else:\n",
    "    if direction == 'up':\n",
    "        top_number= int(input('Please enter the top integer number: '))\n",
    "        for i in range(1, top_number + 1):\n",
    "            print(i)\n",
    "    else:\n",
    "        botton_number= int(input('Please enter an integer number below 20: '))\n",
    "        for i in range(20, botton_number - 1, -1):\n",
    "            print(i)"
   ]
  },
  {
   "cell_type": "markdown",
   "metadata": {},
   "source": [
    "----"
   ]
  },
  {
   "cell_type": "markdown",
   "metadata": {},
   "source": [
    "044\n",
    "Ask how many people the user wants to invite to a party. If they enter a number below\n",
    "10, ask for the names and after each name display “[name] has been invited”. If they\n",
    "enter a number which is 10 or higher, display the message “Too many people”."
   ]
  },
  {
   "cell_type": "code",
   "execution_count": 10,
   "metadata": {},
   "outputs": [
    {
     "name": "stdout",
     "output_type": "stream",
     "text": [
      "Too many people\n"
     ]
    }
   ],
   "source": [
    "people_number= int(input('How many people do you want to invite to your party? '))\n",
    "if people_number < 10:\n",
    "    for i in range(people_number):\n",
    "        name= input(f\"Please enter the name of the guest number{i + 1}: \")\n",
    "        print(f\"{name} has been invited\")\n",
    "else:\n",
    "    print('Too many people')"
   ]
  }
 ],
 "metadata": {
  "kernelspec": {
   "display_name": "Qvenv",
   "language": "python",
   "name": "qvenv"
  },
  "language_info": {
   "codemirror_mode": {
    "name": "ipython",
    "version": 3
   },
   "file_extension": ".py",
   "mimetype": "text/x-python",
   "name": "python",
   "nbconvert_exporter": "python",
   "pygments_lexer": "ipython3",
   "version": "3.10.0"
  }
 },
 "nbformat": 4,
 "nbformat_minor": 2
}
