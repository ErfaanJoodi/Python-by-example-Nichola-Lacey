{
 "cells": [
  {
   "cell_type": "markdown",
   "metadata": {},
   "source": [
    "# Hi :)"
   ]
  },
  {
   "cell_type": "markdown",
   "metadata": {},
   "source": [
    "----"
   ]
  },
  {
   "cell_type": "markdown",
   "metadata": {},
   "source": [
    "027\n",
    "Ask the user to enter a\n",
    "number with lots of\n",
    "decimal places. Multiply\n",
    "this number by two and\n",
    "display the answer."
   ]
  },
  {
   "cell_type": "code",
   "execution_count": 1,
   "metadata": {},
   "outputs": [
    {
     "name": "stdout",
     "output_type": "stream",
     "text": [
      "6.28316\n"
     ]
    }
   ],
   "source": [
    "number= float(input('Please enter your number with lots of decimal places: '))\n",
    "print(number * 2)"
   ]
  },
  {
   "cell_type": "markdown",
   "metadata": {},
   "source": [
    "----"
   ]
  },
  {
   "cell_type": "markdown",
   "metadata": {},
   "source": [
    "028\n",
    "Update program 027 so that it will display the answer to\n",
    "two decimal places."
   ]
  },
  {
   "cell_type": "code",
   "execution_count": 2,
   "metadata": {},
   "outputs": [
    {
     "name": "stdout",
     "output_type": "stream",
     "text": [
      "6.28\n"
     ]
    }
   ],
   "source": [
    "number= float(input('Please enter your number with lots of decimal places: '))\n",
    "print(round(number * 2, 2))"
   ]
  },
  {
   "cell_type": "markdown",
   "metadata": {},
   "source": [
    "----"
   ]
  },
  {
   "cell_type": "markdown",
   "metadata": {},
   "source": [
    "029\n",
    "Ask the user to enter an integer that is over 500. Work\n",
    "out the square root of that number and display it to two decimal places."
   ]
  },
  {
   "cell_type": "code",
   "execution_count": 3,
   "metadata": {},
   "outputs": [
    {
     "name": "stdout",
     "output_type": "stream",
     "text": [
      "24.17\n"
     ]
    }
   ],
   "source": [
    "import math\n",
    "\n",
    "number= float(input('Please enter an integer number over 500: '))\n",
    "print(round(math.sqrt(number), 2))"
   ]
  },
  {
   "cell_type": "markdown",
   "metadata": {},
   "source": [
    "----"
   ]
  },
  {
   "cell_type": "markdown",
   "metadata": {},
   "source": [
    "030\n",
    "Display pi (π) to five\n",
    "decimal places."
   ]
  },
  {
   "cell_type": "code",
   "execution_count": 4,
   "metadata": {},
   "outputs": [
    {
     "name": "stdout",
     "output_type": "stream",
     "text": [
      "3.14159\n"
     ]
    }
   ],
   "source": [
    "import math\n",
    "\n",
    "print(round(math.pi, 5))"
   ]
  },
  {
   "cell_type": "markdown",
   "metadata": {},
   "source": [
    "----"
   ]
  },
  {
   "cell_type": "markdown",
   "metadata": {},
   "source": [
    "031\n",
    "Ask the user to enter the radius of a circle\n",
    "(measurement from the centre point to the edge). Work\n",
    "out the area of the circle (π*radius2)."
   ]
  },
  {
   "cell_type": "code",
   "execution_count": 5,
   "metadata": {},
   "outputs": [
    {
     "name": "stdout",
     "output_type": "stream",
     "text": [
      "50.26548245743669\n"
     ]
    }
   ],
   "source": [
    "import math\n",
    "\n",
    "radius= float(input('Please enter the radius: '))\n",
    "print(math.pi * (radius ** 2))"
   ]
  },
  {
   "cell_type": "markdown",
   "metadata": {},
   "source": [
    "----"
   ]
  },
  {
   "cell_type": "markdown",
   "metadata": {},
   "source": [
    "032\n",
    "Ask for the radius and the depth of a cylinder\n",
    "and work out the total volume (circle\n",
    "area*depth) rounded to three decimal\n",
    "places."
   ]
  },
  {
   "cell_type": "code",
   "execution_count": 6,
   "metadata": {},
   "outputs": [
    {
     "name": "stdout",
     "output_type": "stream",
     "text": [
      "402.124\n"
     ]
    }
   ],
   "source": [
    "import math\n",
    "\n",
    "radius= float(input('Please enter the radius: '))\n",
    "depth= float(input('Please enter the depth: '))\n",
    "print(round(math.pi * (radius ** 2) * depth, 3))"
   ]
  },
  {
   "cell_type": "markdown",
   "metadata": {},
   "source": [
    "----"
   ]
  },
  {
   "cell_type": "markdown",
   "metadata": {},
   "source": [
    "033\n",
    "Ask the user to enter two numbers.\n",
    "Use whole number division to divide\n",
    "the first number by the second and\n",
    "also work out the remainder and\n",
    "display the answer in a user-friendly\n",
    "way (e.g. if they enter 7 and 2 display\n",
    "“7 divided by 2 is 3 with 1\n",
    "remaining”)."
   ]
  },
  {
   "cell_type": "code",
   "execution_count": 7,
   "metadata": {},
   "outputs": [
    {
     "name": "stdout",
     "output_type": "stream",
     "text": [
      "8.0 divided by 4.0 is 2.0\n"
     ]
    }
   ],
   "source": [
    "number1= float(input('Please enter the first number: '))\n",
    "number2= float(input('Please enter the second number: '))\n",
    "print(f\"{number1} divided by {number2} is {number1 // number2} with {number1 % number2} remaining\") if ((number1 % number2) != 0) else print(f\"{number1} divided by {number2} is {number1 // number2}\")"
   ]
  },
  {
   "cell_type": "markdown",
   "metadata": {},
   "source": [
    "----"
   ]
  },
  {
   "cell_type": "markdown",
   "metadata": {},
   "source": [
    "034\n",
    "Display the following message:\n",
    "\n",
    "1)Square\n",
    "\n",
    "2)Triangle\n",
    "\n",
    "Enter a number:\n",
    "\n",
    "If the user enters 1, then it should ask them for\n",
    "the length of one of its sides and display the\n",
    "area. If they select 2, it should ask for the base\n",
    "and height of the triangle and display the area. If\n",
    "they type in anything else, it should give them a\n",
    "suitable error message"
   ]
  },
  {
   "cell_type": "code",
   "execution_count": 8,
   "metadata": {},
   "outputs": [
    {
     "name": "stdout",
     "output_type": "stream",
     "text": [
      "your number is not between options\n"
     ]
    }
   ],
   "source": [
    "choice= int(input(\"1)Square\\n2)Triangle\\nEnter a number: \"))\n",
    "if choice not in [1, 2]:\n",
    "    print('your number is not between options')\n",
    "else:\n",
    "    if choice == 1:\n",
    "        length= float(input('Please enter the length of one of squares sides: '))\n",
    "        print(f\"The area of the square is {length ** 2}\")\n",
    "    else:\n",
    "        base= float(input('Please enter the length of base of triangle: '))\n",
    "        height= float(input('Please enter the lenght of height of trangle: '))\n",
    "        print(f\"The arae of the triangle is {base * height / 2}\")"
   ]
  }
 ],
 "metadata": {
  "kernelspec": {
   "display_name": "Qvenv",
   "language": "python",
   "name": "qvenv"
  },
  "language_info": {
   "codemirror_mode": {
    "name": "ipython",
    "version": 3
   },
   "file_extension": ".py",
   "mimetype": "text/x-python",
   "name": "python",
   "nbconvert_exporter": "python",
   "pygments_lexer": "ipython3",
   "version": "3.10.0"
  }
 },
 "nbformat": 4,
 "nbformat_minor": 2
}
