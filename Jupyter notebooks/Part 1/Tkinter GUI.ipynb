{
 "cells": [
  {
   "cell_type": "markdown",
   "metadata": {},
   "source": [
    "# Hi :)"
   ]
  },
  {
   "cell_type": "markdown",
   "metadata": {},
   "source": [
    "----"
   ]
  },
  {
   "cell_type": "code",
   "execution_count": 1,
   "metadata": {},
   "outputs": [],
   "source": [
    "from tkinter import *\n",
    "\n",
    "def Call():\n",
    "    msg= Label(window, text= 'You pressed the button')\n",
    "    msg.place(x= 30, y= 50)\n",
    "    button['bg']= 'blue'\n",
    "    button['fg']= 'red'\n",
    "\n",
    "window= Tk()\n",
    "window.geometry('200x110')\n",
    "button= Button(text= 'Press me', command= Call)\n",
    "button.place(x= 30, y= 20, width= 120, height= 25)\n",
    "window.mainloop()"
   ]
  },
  {
   "cell_type": "markdown",
   "metadata": {},
   "source": [
    "124\n",
    "Create a window that will\n",
    "ask the user to enter their\n",
    "name. When they click on\n",
    "a button it should display\n",
    "the message “Hello” and\n",
    "their name and change\n",
    "the background colour\n",
    "and font colour of the\n",
    "message box."
   ]
  },
  {
   "cell_type": "code",
   "execution_count": 2,
   "metadata": {},
   "outputs": [],
   "source": [
    "from tkinter import *\n",
    "\n",
    "def click():\n",
    "    name= entry.get()\n",
    "    text= 'Hello ' + name\n",
    "    outbox['bg']= 'white'\n",
    "    outbox['fg']= 'black'\n",
    "    outbox['text']= text\n",
    "\n",
    "\n",
    "window= Tk()\n",
    "window.geometry('480x400')\n",
    "window['bg']= 'black'\n",
    "\n",
    "label= Label(window, text= 'Please enter your name', font= ('Dosis', '14'))\n",
    "label.place(x= 140, y= 48)\n",
    "label.config(bg= 'black', fg= 'white')\n",
    "\n",
    "entry= Entry(window, text= '', font= ('Dosis', '10'))\n",
    "entry.place(x= 138, y= 84, width= 180, height= 28)\n",
    "entry['justify']= 'center'\n",
    "entry['bg']= 'white'\n",
    "entry['fg']= 'black'\n",
    "entry.focus()\n",
    "\n",
    "button= Button(window, text= 'Done', font= ('Dosis', 14), command= click)\n",
    "button.place(x= 138, y= 124, width= 180, height= 28)\n",
    "\n",
    "outbox= Message(text= '')\n",
    "outbox.place(x= 138, y= 164, width= 180, height= 28)\n",
    "outbox['justify']= 'center'\n",
    "outbox['bg']= 'grey'\n",
    "outbox['fg']= 'red'\n",
    "\n",
    "window.mainloop()"
   ]
  },
  {
   "cell_type": "markdown",
   "metadata": {},
   "source": [
    "----"
   ]
  },
  {
   "cell_type": "markdown",
   "metadata": {},
   "source": [
    "125\n",
    "Write a program that\n",
    "can be used instead\n",
    "of rolling a six-sided\n",
    "die in a board game.\n",
    "When the user clicks\n",
    "a button it should\n",
    "display a random\n",
    "whole number\n",
    "between 1 to 6\n",
    "(inclusive)."
   ]
  },
  {
   "cell_type": "code",
   "execution_count": 3,
   "metadata": {},
   "outputs": [],
   "source": [
    "from tkinter import *\n",
    "import random\n",
    "\n",
    "def click():\n",
    "    text= random.randint(1, 6)\n",
    "    outbox['text']= text\n",
    "\n",
    "window= Tk()\n",
    "window.geometry('480x400')\n",
    "window['bg']= 'black'\n",
    "\n",
    "label= Label(window, text= 'For rolling click on the button', font= ('Dosis', 14))\n",
    "label.place(x= 124, y= 48)\n",
    "label.config(bg= 'black', fg= 'white')\n",
    "\n",
    "button= Button(window, text= 'Rolling', font= ('Dosis', 14), command= click)\n",
    "button.place(x= 144, y= 84, width= 180, height= 28)\n",
    "\n",
    "outbox= Message(text= '')\n",
    "outbox.place(x= 144, y= 124, width= 180, height= 28)\n",
    "outbox['justify']= 'center'\n",
    "outbox['bg']= 'white'\n",
    "outbox['fg']= 'black'\n",
    "\n",
    "window.mainloop()"
   ]
  },
  {
   "cell_type": "markdown",
   "metadata": {},
   "source": [
    "----"
   ]
  },
  {
   "cell_type": "markdown",
   "metadata": {},
   "source": [
    "126\n",
    "Create a program that will ask\n",
    "the user to enter a number in a\n",
    "box. When they click on a\n",
    "button it will add that number\n",
    "to a total and display it in\n",
    "another box. This can be\n",
    "repeated as many times as\n",
    "they want and keep adding to\n",
    "the total. There should be\n",
    "another button that resets the\n",
    "total back to 0 and empties the\n",
    "original text box, ready for\n",
    "them to start again."
   ]
  },
  {
   "cell_type": "code",
   "execution_count": 4,
   "metadata": {},
   "outputs": [],
   "source": [
    "from tkinter import *\n",
    "\n",
    "def click1():\n",
    "    num= float(entry_box.get())\n",
    "    total= float(output_box['text']) + num\n",
    "    output_box['text']= total\n",
    "\n",
    "def click2():\n",
    "    output_box['text']= 0\n",
    "\n",
    "window= Tk()\n",
    "window.geometry('480x400')\n",
    "window['bg']= 'black'\n",
    "\n",
    "label= Label(window, text= 'Please enter a number', font= ('Dosis', 14))\n",
    "label.place(x= 154, y= 48)\n",
    "label.config(bg= 'black', fg= 'white')\n",
    "\n",
    "entry_box= Entry(window, text= '')\n",
    "entry_box.place(x= 148, y= 88, width= 184, height= 28)\n",
    "entry_box['justify']= 'center'\n",
    "entry_box['bg']= 'white'\n",
    "entry_box['fg']= 'black'\n",
    "\n",
    "button1= Button(window, text= 'Add to total', font= ('Dosis', 14), command= click1)\n",
    "button1.place(x= 148, y= 128, width= 184, height= 28)\n",
    "button1['bg']= 'black'\n",
    "button1['fg']= 'white'\n",
    "\n",
    "output_box= Message(window, text= '0')\n",
    "output_box.place(x= 148, y= 168, width= 184, height= 28)\n",
    "output_box['bg']= 'grey'\n",
    "output_box['fg']= 'black'\n",
    "\n",
    "button2= Button(window, text= 'Reset', font= ('Dosis', 14), command= click2)\n",
    "button2.place(x= 148, y= 208, width= 184, height= 28)\n",
    "button2['bg']= 'grey'\n",
    "button2['fg']= 'black'\n",
    "\n",
    "window.mainloop()"
   ]
  },
  {
   "cell_type": "markdown",
   "metadata": {},
   "source": [
    "----"
   ]
  },
  {
   "cell_type": "markdown",
   "metadata": {},
   "source": [
    "127\n",
    "Create a window that will ask the user to enter a\n",
    "name in a text box. When they click on a button it\n",
    "will add it to the end of the list that is displayed on\n",
    "the screen. Create another button which will clear\n",
    "the list."
   ]
  },
  {
   "cell_type": "code",
   "execution_count": 13,
   "metadata": {},
   "outputs": [],
   "source": [
    "from tkinter import *\n",
    "\n",
    "def click1():\n",
    "    new_name= str(entry_box.get())\n",
    "    if len(str(output_box['text'])) > 0:\n",
    "        ls= str(output_box['text']) + ', ' + new_name\n",
    "    else:\n",
    "        ls= new_name\n",
    "    output_box['text']= ls\n",
    "\n",
    "def click2():\n",
    "    output_box['text']= ''\n",
    "\n",
    "window= Tk()\n",
    "window.geometry('480x400')\n",
    "window['bg']= 'black'\n",
    "\n",
    "label= Label(window, text= 'Please enter a name', font= ('Dosis', 14))\n",
    "label.place(x= 162, y= 48)\n",
    "label.config(bg= 'black', fg= 'white')\n",
    "\n",
    "entry_box= Entry(window, text= '')\n",
    "entry_box.place(x= 148, y= 88, width= 184, height= 28)\n",
    "entry_box['justify']= 'center'\n",
    "entry_box['bg']= 'white'\n",
    "entry_box['fg']= 'black'\n",
    "\n",
    "button1= Button(window, text= 'Add to the list', font= ('Dosis', 14), command= click1)\n",
    "button1.place(x= 148, y= 128, width= 184, height= 28)\n",
    "button1['bg']= 'black'\n",
    "button1['fg']= 'white'\n",
    "\n",
    "output_box= Message(window, text= '')\n",
    "output_box.place(x= 148, y= 168, width= 184, height= 28)\n",
    "output_box['bg']= 'grey'\n",
    "output_box['fg']= 'black'\n",
    "\n",
    "button2= Button(window, text= 'Reset', font= ('Dosis', 14), command= click2)\n",
    "button2.place(x= 148, y= 208, width= 184, height= 28)\n",
    "button2['bg']= 'grey'\n",
    "button2['fg']= 'black'\n",
    "\n",
    "window.mainloop()"
   ]
  },
  {
   "cell_type": "markdown",
   "metadata": {},
   "source": [
    "----"
   ]
  },
  {
   "cell_type": "markdown",
   "metadata": {},
   "source": [
    "128\n",
    "1 kilometre = 0.6214 miles and 1\n",
    "mile = 1.6093 kilometres. Using\n",
    "these figures, make a program\n",
    "that will allow the user to\n",
    "convert between miles and\n",
    "kilometres."
   ]
  },
  {
   "cell_type": "code",
   "execution_count": null,
   "metadata": {},
   "outputs": [],
   "source": []
  },
  {
   "cell_type": "markdown",
   "metadata": {},
   "source": [
    "----"
   ]
  },
  {
   "cell_type": "markdown",
   "metadata": {},
   "source": [
    "129\n",
    "Create a window that will ask the\n",
    "user to enter a number in a text box.\n",
    "When they click on a button it will\n",
    "use the code\n",
    "variable.isdigit() to check\n",
    "to see if it is a whole number. If it is\n",
    "a whole number, add it to a list box,\n",
    "otherwise clear the entry box. Add\n",
    "another button that will clear the\n",
    "list."
   ]
  },
  {
   "cell_type": "code",
   "execution_count": null,
   "metadata": {},
   "outputs": [],
   "source": []
  },
  {
   "cell_type": "markdown",
   "metadata": {},
   "source": [
    "----"
   ]
  },
  {
   "cell_type": "markdown",
   "metadata": {},
   "source": [
    "130\n",
    "Alter program 129 to add a third button that\n",
    "will save the list to a .csv file. The code\n",
    "tmp_list = num_list.get(0,END)\n",
    "can be used to save the contents of a list box\n",
    "as a tuple called tmp_list."
   ]
  },
  {
   "cell_type": "code",
   "execution_count": null,
   "metadata": {},
   "outputs": [],
   "source": []
  },
  {
   "cell_type": "markdown",
   "metadata": {},
   "source": [
    "----"
   ]
  },
  {
   "cell_type": "markdown",
   "metadata": {},
   "source": [
    "131\n",
    "Create a program that will allow the\n",
    "user to create a new .csv file. It should\n",
    "ask them to enter the name and age of\n",
    "a person and then allow them to add\n",
    "this to the end of the file they have\n",
    "just created."
   ]
  },
  {
   "cell_type": "code",
   "execution_count": null,
   "metadata": {},
   "outputs": [],
   "source": []
  },
  {
   "cell_type": "markdown",
   "metadata": {},
   "source": [
    "----"
   ]
  },
  {
   "cell_type": "markdown",
   "metadata": {},
   "source": [
    "132\n",
    "Using the .csv file you created for the last\n",
    "challenge, create a program that will allow\n",
    "people to add names and ages to the list\n",
    "and create a button that will display the\n",
    "contents of the .csv file by importing it to a\n",
    "list box."
   ]
  },
  {
   "cell_type": "code",
   "execution_count": null,
   "metadata": {},
   "outputs": [],
   "source": []
  }
 ],
 "metadata": {
  "kernelspec": {
   "display_name": "Qvenv",
   "language": "python",
   "name": "qvenv"
  },
  "language_info": {
   "codemirror_mode": {
    "name": "ipython",
    "version": 3
   },
   "file_extension": ".py",
   "mimetype": "text/x-python",
   "name": "python",
   "nbconvert_exporter": "python",
   "pygments_lexer": "ipython3",
   "version": "3.10.0"
  }
 },
 "nbformat": 4,
 "nbformat_minor": 2
}
