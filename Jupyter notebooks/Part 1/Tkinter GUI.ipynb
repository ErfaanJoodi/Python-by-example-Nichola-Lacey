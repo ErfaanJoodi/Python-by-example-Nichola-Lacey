{
 "cells": [
  {
   "cell_type": "markdown",
   "metadata": {},
   "source": [
    "# Hi :)"
   ]
  },
  {
   "cell_type": "markdown",
   "metadata": {},
   "source": [
    "----"
   ]
  },
  {
   "cell_type": "code",
   "execution_count": 3,
   "metadata": {},
   "outputs": [],
   "source": [
    "from tkinter import *\n",
    "\n",
    "def Call():\n",
    "    msg= Label(window, text= 'You pressed the button')\n",
    "    msg.place(x= 30, y= 50)\n",
    "    button['bg']= 'blue'\n",
    "    button['fg']= 'red'\n",
    "\n",
    "window= Tk()\n",
    "window.geometry('200x110')\n",
    "button= Button(text= 'Press me', command= Call)\n",
    "button.place(x= 30, y= 20, width= 120, height= 25)\n",
    "window.mainloop()"
   ]
  }
 ],
 "metadata": {
  "kernelspec": {
   "display_name": "Qvenv",
   "language": "python",
   "name": "qvenv"
  },
  "language_info": {
   "codemirror_mode": {
    "name": "ipython",
    "version": 3
   },
   "file_extension": ".py",
   "mimetype": "text/x-python",
   "name": "python",
   "nbconvert_exporter": "python",
   "pygments_lexer": "ipython3",
   "version": "3.10.0"
  }
 },
 "nbformat": 4,
 "nbformat_minor": 2
}
