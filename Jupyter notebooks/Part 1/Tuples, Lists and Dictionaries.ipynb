{
 "cells": [
  {
   "cell_type": "markdown",
   "metadata": {},
   "source": [
    "# Hi :)"
   ]
  },
  {
   "cell_type": "markdown",
   "metadata": {},
   "source": [
    "----"
   ]
  },
  {
   "cell_type": "markdown",
   "metadata": {},
   "source": [
    "069\n",
    "Create a tuple containing the names of five countries and display the whole tuple. Ask\n",
    "the user to enter one of the countries that have been shown to them and then display\n",
    "the index number (i.e. position in the list) of that item in the tuple."
   ]
  },
  {
   "cell_type": "code",
   "execution_count": 1,
   "metadata": {},
   "outputs": [
    {
     "name": "stdout",
     "output_type": "stream",
     "text": [
      "('iran', 'unitedstate', 'japan', 'africa', 'canada')\n"
     ]
    },
    {
     "data": {
      "text/plain": [
       "1"
      ]
     },
     "execution_count": 1,
     "metadata": {},
     "output_type": "execute_result"
    }
   ],
   "source": [
    "countries= ('iran', 'unitedstate', 'japan', 'africa', 'canada')\n",
    "print(countries)\n",
    "country= input('What country do you wnat to choose? ').lower()\n",
    "countries.index(country)"
   ]
  },
  {
   "cell_type": "markdown",
   "metadata": {},
   "source": [
    "----"
   ]
  },
  {
   "cell_type": "markdown",
   "metadata": {},
   "source": [
    "070\n",
    "Add to program 069 to ask the\n",
    "user to enter a number and\n",
    "display the country in that\n",
    "position."
   ]
  },
  {
   "cell_type": "code",
   "execution_count": 2,
   "metadata": {},
   "outputs": [
    {
     "name": "stdout",
     "output_type": "stream",
     "text": [
      "('iran', 'unitedstate', 'japan', 'africa', 'canada')\n",
      "1\n",
      "unitedstate\n"
     ]
    }
   ],
   "source": [
    "countries= ('iran', 'unitedstate', 'japan', 'africa', 'canada')\n",
    "print(countries)\n",
    "country= input('What country do you wnat to choose? ').lower()\n",
    "print(countries.index(country))\n",
    "index= int(input('Please enter the index of the country that you want to be shown: '))\n",
    "print(countries[index])"
   ]
  },
  {
   "cell_type": "markdown",
   "metadata": {},
   "source": [
    "----"
   ]
  },
  {
   "cell_type": "markdown",
   "metadata": {},
   "source": [
    "071\n",
    "Create a list of two sports. Ask the\n",
    "user what their favourite sport is and\n",
    "add this to the end of the list. Sort the\n",
    "list and display it."
   ]
  },
  {
   "cell_type": "code",
   "execution_count": 3,
   "metadata": {},
   "outputs": [
    {
     "name": "stdout",
     "output_type": "stream",
     "text": [
      "['racing', 'soccer', 'tenis']\n"
     ]
    }
   ],
   "source": [
    "sports= ['soccer', 'tenis']\n",
    "new_sport= input('What is your favourite sport? ').lower()\n",
    "sports.append(new_sport)\n",
    "sports.sort()\n",
    "print(sports)"
   ]
  },
  {
   "cell_type": "markdown",
   "metadata": {},
   "source": [
    "----"
   ]
  },
  {
   "cell_type": "markdown",
   "metadata": {},
   "source": [
    "072\n",
    "Create a list of six school subjects. Ask the user which of these\n",
    "subjects they don’t like. Delete the subject they have chosen from the\n",
    "list before you display the list again."
   ]
  },
  {
   "cell_type": "code",
   "execution_count": 4,
   "metadata": {},
   "outputs": [
    {
     "name": "stdout",
     "output_type": "stream",
     "text": [
      "['math', 'english', 'history', 'fisics', 'chemistery', 'dini']\n",
      "['math', 'english', 'history', 'fisics', 'chemistery']\n"
     ]
    }
   ],
   "source": [
    "subjects= ['math', 'english', 'history', 'fisics', 'chemistery', 'dini']\n",
    "print(subjects)\n",
    "dlike= input('Which one is not your favourite? ').lower()\n",
    "index= subjects.index(dlike)\n",
    "del subjects[index]\n",
    "print(subjects)"
   ]
  },
  {
   "cell_type": "markdown",
   "metadata": {},
   "source": [
    "----"
   ]
  },
  {
   "cell_type": "markdown",
   "metadata": {},
   "source": [
    "073\n",
    "Ask the user to\n",
    "enter four of their\n",
    "favourite foods\n",
    "and store them in\n",
    "a dictionary so\n",
    "that they are\n",
    "indexed with\n",
    "numbers starting\n",
    "from 1. Display\n",
    "the dictionary in\n",
    "full, showing the\n",
    "index number\n",
    "and the item. Ask\n",
    "them which they\n",
    "want to get rid of\n",
    "and remove it\n",
    "from the list. Sort\n",
    "the remaining\n",
    "data and display\n",
    "the dictionary."
   ]
  },
  {
   "cell_type": "code",
   "execution_count": 5,
   "metadata": {},
   "outputs": [
    {
     "name": "stdout",
     "output_type": "stream",
     "text": [
      "{1: 'a', 2: 'b', 3: 'c', 4: 'd'}\n"
     ]
    },
    {
     "data": {
      "text/plain": [
       "['a', 'b', 'd']"
      ]
     },
     "execution_count": 5,
     "metadata": {},
     "output_type": "execute_result"
    }
   ],
   "source": [
    "foods_dic= {}\n",
    "for i in range(4):\n",
    "    food= input(f\"What is your number{i + 1} favourite food? \").lower()\n",
    "    foods_dic[i + 1]= food\n",
    "print(foods_dic)\n",
    "dlike= int(input('Which one do you want to delete? '))\n",
    "del foods_dic[dlike]\n",
    "sorted(foods_dic.values())"
   ]
  },
  {
   "cell_type": "markdown",
   "metadata": {},
   "source": [
    "----"
   ]
  },
  {
   "cell_type": "markdown",
   "metadata": {},
   "source": [
    "074\n",
    "Enter a list of ten colours.\n",
    "Ask the user for a starting\n",
    "number between 0 and 4\n",
    "and an end number\n",
    "between 5 and 9. Display\n",
    "the list for those colours\n",
    "between the start and end\n",
    "numbers the user input."
   ]
  },
  {
   "cell_type": "code",
   "execution_count": 6,
   "metadata": {},
   "outputs": [
    {
     "data": {
      "text/plain": [
       "['black', 'white', 'orange', 'yellow']"
      ]
     },
     "execution_count": 6,
     "metadata": {},
     "output_type": "execute_result"
    }
   ],
   "source": [
    "colors= ['red', 'blue', 'purple', 'green', 'black', 'white', 'orange', 'yellow', 'brown', 'grey']\n",
    "start_number= int(input('Please enter an integer number between 0 and 4: '))\n",
    "end_number= int(input('Please enter an integer number between 5 and 9: '))\n",
    "colors[start_number : end_number]"
   ]
  },
  {
   "cell_type": "markdown",
   "metadata": {},
   "source": [
    "----"
   ]
  },
  {
   "cell_type": "markdown",
   "metadata": {},
   "source": [
    "075\n",
    "Create a list of four three-digit\n",
    "numbers. Display the list to the\n",
    "user, showing each item from\n",
    "the list on a separate line. Ask\n",
    "the user to enter a three-digit\n",
    "number. If the number they\n",
    "have typed in matches one in\n",
    "the list, display the position of\n",
    "that number in the list,\n",
    "otherwise display the message\n",
    "“That is not in the list”."
   ]
  },
  {
   "cell_type": "code",
   "execution_count": 7,
   "metadata": {},
   "outputs": [
    {
     "name": "stdout",
     "output_type": "stream",
     "text": [
      "111\n",
      "222\n",
      "333\n",
      "444\n",
      "3\n"
     ]
    }
   ],
   "source": [
    "numbers= [111, 222, 333, 444]\n",
    "for number in numbers:\n",
    "    print(number)\n",
    "number= int(input('Please enter your number: '))\n",
    "if number in numbers:\n",
    "    print(numbers.index(number))\n",
    "else:\n",
    "    print('That is not in the list')"
   ]
  },
  {
   "cell_type": "markdown",
   "metadata": {},
   "source": [
    "----"
   ]
  },
  {
   "cell_type": "markdown",
   "metadata": {},
   "source": [
    "076\n",
    "Ask the user to enter the names of three people they want to\n",
    "invite to a party and store them in a list. After they have entered\n",
    "all three names, ask them if they want to add another. If they do,\n",
    "allow them to add more names until they answer “no”. When\n",
    "they answer “no”, display how many people they have invited to\n",
    "the party."
   ]
  },
  {
   "cell_type": "code",
   "execution_count": 8,
   "metadata": {},
   "outputs": [
    {
     "name": "stdout",
     "output_type": "stream",
     "text": [
      "There is gonna be 4 people\n"
     ]
    }
   ],
   "source": [
    "guests= []\n",
    "for i in range(3):\n",
    "    guests.append(input(f\"Please enter the name of guest number{len(guests) + 1}: \").lower())\n",
    "while True:\n",
    "    answer= input('Do you want to invite anyone else(y/n)? ').lower()\n",
    "    if answer == 'y':\n",
    "        guests.append(input(f\"Please enter the name of guest number{len(guests) + 1}: \").lower())\n",
    "    else:\n",
    "        print(f\"There is gonna be {len(guests)} people\")\n",
    "        break"
   ]
  },
  {
   "cell_type": "markdown",
   "metadata": {},
   "source": [
    "----"
   ]
  },
  {
   "cell_type": "markdown",
   "metadata": {},
   "source": [
    "077\n",
    "Change program 076 so that once the user has completed their list of names, display the\n",
    "full list and ask them to type in one of the names on the list. Display the position of that\n",
    "name in the list. Ask the user if they still want that person to come to the party. If they\n",
    "answer “no”, delete that entry from the list and display the list again."
   ]
  },
  {
   "cell_type": "code",
   "execution_count": 9,
   "metadata": {},
   "outputs": [
    {
     "name": "stdout",
     "output_type": "stream",
     "text": [
      "There is gonna be 4 people\n",
      "['nafas', 'habib', 'omid', 'niousha']\n",
      "['nafas', 'habib', 'omid']\n"
     ]
    }
   ],
   "source": [
    "guests= []\n",
    "for i in range(3):\n",
    "    guests.append(input(f\"Please enter the name of guest number{len(guests) + 1}: \").lower())\n",
    "while True:\n",
    "    answer= input('Do you want to invite anyone else(y/n)? ').lower()\n",
    "    if answer == 'y':\n",
    "        guests.append(input(f\"Please enter the name of guest number{len(guests) + 1}: \").lower())\n",
    "    else:\n",
    "        print(f\"There is gonna be {len(guests)} people\")\n",
    "        break\n",
    "print(guests)\n",
    "name= input('Please enter the name of one of the guests: ').lower()\n",
    "answer= input(f\"Do you still wnat to invite {name}(y/n)? \").lower()\n",
    "if answer == 'n':\n",
    "    index= guests.index(name)\n",
    "    del guests[index]\n",
    "print(guests)"
   ]
  },
  {
   "cell_type": "markdown",
   "metadata": {},
   "source": [
    "----"
   ]
  },
  {
   "cell_type": "markdown",
   "metadata": {},
   "source": [
    "078\n",
    "Create a list containing the titles of\n",
    "four TV programmes and display\n",
    "them on separate lines. Ask the\n",
    "user to enter another show and a\n",
    "position they want it inserted into\n",
    "the list. Display the list again,\n",
    "showing all five TV programmes in\n",
    "their new positions."
   ]
  },
  {
   "cell_type": "code",
   "execution_count": 10,
   "metadata": {},
   "outputs": [
    {
     "name": "stdout",
     "output_type": "stream",
     "text": [
      "top gear\n",
      "friends\n",
      "mom\n",
      "the big bang theory\n",
      "['how i met your mother', 'top gear', 'friends', 'mom', 'the big bang theory']\n"
     ]
    }
   ],
   "source": [
    "programs= ['top gear', 'friends', 'mom', 'the big bang theory']\n",
    "for program in programs:\n",
    "    print(program)\n",
    "favourite= input('What is your fabourite program? ')\n",
    "position= int(input('Where do you want me to add it in the list? '))\n",
    "programs.insert(position, favourite)\n",
    "print(programs)"
   ]
  },
  {
   "cell_type": "markdown",
   "metadata": {},
   "source": [
    "----"
   ]
  },
  {
   "cell_type": "markdown",
   "metadata": {},
   "source": [
    "079\n",
    "Create an empty list called “nums”.\n",
    "Ask the user to enter numbers.\n",
    "After each number is entered, add\n",
    "it to the end of the nums list and\n",
    "display the list. Once they have\n",
    "entered three numbers, ask them if\n",
    "they still want the last number they\n",
    "entered saved. If they say “no”,\n",
    "remove the last item from the list.\n",
    "Display the list of numbers."
   ]
  },
  {
   "cell_type": "code",
   "execution_count": 11,
   "metadata": {},
   "outputs": [
    {
     "name": "stdout",
     "output_type": "stream",
     "text": [
      "[4.0]\n",
      "[4.0, 8.0]\n",
      "[4.0, 8.0, 12.0]\n",
      "[4.0, 8.0]\n"
     ]
    }
   ],
   "source": [
    "nums= []\n",
    "for i in range(3):\n",
    "    nums.append(float(input(f\"Please enter number{i + 1}: \")))\n",
    "    print(nums)\n",
    "answer= input('Do you still want to keep the last number(y/n)? ').lower()\n",
    "if answer == 'n':\n",
    "    nums.remove(nums[-1])\n",
    "print(nums)"
   ]
  }
 ],
 "metadata": {
  "kernelspec": {
   "display_name": "Qvenv",
   "language": "python",
   "name": "qvenv"
  },
  "language_info": {
   "codemirror_mode": {
    "name": "ipython",
    "version": 3
   },
   "file_extension": ".py",
   "mimetype": "text/x-python",
   "name": "python",
   "nbconvert_exporter": "python",
   "pygments_lexer": "ipython3",
   "version": "3.10.0"
  }
 },
 "nbformat": 4,
 "nbformat_minor": 2
}
