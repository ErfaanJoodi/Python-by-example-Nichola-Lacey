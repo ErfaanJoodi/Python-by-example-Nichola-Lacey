{
 "cells": [
  {
   "cell_type": "markdown",
   "metadata": {},
   "source": [
    "# Hi :)"
   ]
  },
  {
   "cell_type": "markdown",
   "metadata": {},
   "source": [
    "----"
   ]
  },
  {
   "cell_type": "markdown",
   "metadata": {},
   "source": [
    "045\n",
    "Set the total to 0 to start with. While the total is 50 or less, ask\n",
    "the user to input a number. Add that number to the total and\n",
    "print the message “The total is… [total]”. Stop the loop when\n",
    "the total is over 50."
   ]
  },
  {
   "cell_type": "code",
   "execution_count": 1,
   "metadata": {},
   "outputs": [
    {
     "name": "stdout",
     "output_type": "stream",
     "text": [
      "The total is 4.0\n",
      "The total is 12.0\n",
      "The total is 20.0\n",
      "The total is 24.0\n",
      "The total is 48.0\n"
     ]
    }
   ],
   "source": [
    "total= 0\n",
    "while total < 50:\n",
    "    number= float(input('Please enter a number: '))\n",
    "    total += number\n",
    "    print(f\"The total is {total}\") if total < 50 else None"
   ]
  },
  {
   "cell_type": "markdown",
   "metadata": {},
   "source": [
    "----"
   ]
  },
  {
   "cell_type": "markdown",
   "metadata": {},
   "source": [
    "046\n",
    "Ask the user to enter\n",
    "a number. Keep\n",
    "asking until they enter\n",
    "a value over 5 and\n",
    "then display the\n",
    "message “The last\n",
    "number you entered\n",
    "was a [number]” and\n",
    "stop the program."
   ]
  },
  {
   "cell_type": "code",
   "execution_count": 2,
   "metadata": {},
   "outputs": [
    {
     "name": "stdout",
     "output_type": "stream",
     "text": [
      "The last number you entered was 8\n"
     ]
    }
   ],
   "source": [
    "number= int(input('Please enter an integer number: '))\n",
    "while number <= 5:\n",
    "    number= int(input('Please enter an integer number: '))\n",
    "print(f\"The last number you entered was {number}\")"
   ]
  },
  {
   "cell_type": "markdown",
   "metadata": {},
   "source": [
    "----"
   ]
  },
  {
   "cell_type": "markdown",
   "metadata": {},
   "source": [
    "047\n",
    "Ask the user to enter a\n",
    "number and then enter\n",
    "another number. Add these\n",
    "two numbers together and\n",
    "then ask if they want to add\n",
    "another number. If they\n",
    "enter “y\", ask them to enter\n",
    "another number and keep\n",
    "adding numbers until they\n",
    "do not answer “y”. Once the\n",
    "loop has stopped, display\n",
    "the total."
   ]
  },
  {
   "cell_type": "code",
   "execution_count": 3,
   "metadata": {},
   "outputs": [
    {
     "name": "stdout",
     "output_type": "stream",
     "text": [
      "24.0\n"
     ]
    }
   ],
   "source": [
    "number1= float(input('Please enter number1: '))\n",
    "number2= float(input('Please enter number2: '))\n",
    "total= number1 + number2\n",
    "i= 3\n",
    "while True:\n",
    "    answer= input('Do you want to add another number(y/n)? ').lower()\n",
    "    if answer == 'y':\n",
    "        new_number= float(input(f\"Please enter number{i}\"))\n",
    "        total += new_number\n",
    "        i += 1\n",
    "    else:\n",
    "        break\n",
    "print(total)"
   ]
  },
  {
   "cell_type": "markdown",
   "metadata": {},
   "source": [
    "----"
   ]
  },
  {
   "cell_type": "markdown",
   "metadata": {},
   "source": [
    "048\n",
    "Ask for the name of somebody the user wants to invite\n",
    "to a party. After this, display the message “[name] has\n",
    "now been invited” and add 1 to the count. Then ask if\n",
    "they want to invite somebody else. Keep repeating this\n",
    "until they no longer want to invite anyone else to the\n",
    "party and then display how many people they have\n",
    "coming to the party."
   ]
  },
  {
   "cell_type": "code",
   "execution_count": 4,
   "metadata": {},
   "outputs": [
    {
     "name": "stdout",
     "output_type": "stream",
     "text": [
      "Erfan has now been invited\n",
      "Nafas has now been invited\n",
      "There is gonna be 2 people in your party\n"
     ]
    }
   ],
   "source": [
    "name= input('Who do you want to invite to your party? ')\n",
    "print(f\"{name} has now been invited\")\n",
    "counter= 1\n",
    "while True:\n",
    "    answer= input('Do you want to invite anyone else(y/n)? ').lower()\n",
    "    if answer == 'y':\n",
    "        new_name= input('Who else do you want to invite to your party? ')\n",
    "        print(f\"{new_name} has now been invited\")\n",
    "        counter += 1\n",
    "    else:\n",
    "        break\n",
    "print(f\"There is gonna be {counter} people in your party\")"
   ]
  },
  {
   "cell_type": "markdown",
   "metadata": {},
   "source": [
    "----"
   ]
  },
  {
   "cell_type": "markdown",
   "metadata": {},
   "source": [
    "049\n",
    "Create a variable called\n",
    "compnum and set the value\n",
    "to 50. Ask the user to enter a\n",
    "number. While their guess\n",
    "is not the same as the\n",
    "compnum value, tell them if\n",
    "their guess is too low or too\n",
    "high and ask them to have\n",
    "another guess. If they enter\n",
    "the same value as\n",
    "compnum, display the\n",
    "message “Well done, you\n",
    "took [count] attempts”."
   ]
  },
  {
   "cell_type": "code",
   "execution_count": 5,
   "metadata": {},
   "outputs": [
    {
     "name": "stdout",
     "output_type": "stream",
     "text": [
      "Your guess is too low\n",
      "Your guess is too low\n",
      "Your guess is too high\n",
      "Well done, you took4 attempts\n"
     ]
    }
   ],
   "source": [
    "compnum= 50\n",
    "counter= 0\n",
    "while True:\n",
    "    guess= int(input('Please enter your guess: '))\n",
    "    counter += 1\n",
    "    if guess != 50:\n",
    "        print('Your guess is too high') if (guess > 50) else print('Your guess is too low')\n",
    "    else:\n",
    "        break\n",
    "print(f\"Well done, you took{counter} attempts\")"
   ]
  },
  {
   "cell_type": "markdown",
   "metadata": {},
   "source": [
    "----"
   ]
  },
  {
   "cell_type": "markdown",
   "metadata": {},
   "source": [
    "050\n",
    "Ask the user to enter a number between\n",
    "10 and 20. If they enter a value under 10,\n",
    "display the message “Too low” and ask\n",
    "them to try again. If they enter a value\n",
    "above 20, display the message “Too high”\n",
    "and ask them to try again. Keep repeating\n",
    "this until they enter a value that is\n",
    "between 10 and 20 and then display the\n",
    "message “Thank you”."
   ]
  },
  {
   "cell_type": "code",
   "execution_count": 6,
   "metadata": {},
   "outputs": [
    {
     "name": "stdout",
     "output_type": "stream",
     "text": [
      "too low\n",
      "too high\n",
      "too low\n",
      "Thank you\n"
     ]
    }
   ],
   "source": [
    "while True:\n",
    "    number= int(input('Please enter an integer number between 10 and 20: '))\n",
    "    if (number > 20) | (number < 10):\n",
    "        print('too high') if (number > 20) else print('too low') if (number < 10) else None\n",
    "    else:\n",
    "        print('Thank you')\n",
    "        break"
   ]
  },
  {
   "cell_type": "markdown",
   "metadata": {},
   "source": [
    "----"
   ]
  },
  {
   "cell_type": "markdown",
   "metadata": {},
   "source": [
    "051\n",
    "Using the song “10 green bottles”, display the lines “There are [num] green bottles\n",
    "hanging on the wall, [num] green bottles hanging on the wall, and if 1 green bottle\n",
    "should accidentally fall”. Then ask the question “how many green bottles will be\n",
    "hanging on the wall?” If the user answers correctly, display the message “There will be\n",
    "[num] green bottles hanging on the wall”. If they answer incorrectly, display the\n",
    "message “No, try again” until they get it right. When the number of green bottles gets\n",
    "down to 0, display the message “There are no more green bottles hanging on the wall”."
   ]
  },
  {
   "cell_type": "code",
   "execution_count": 7,
   "metadata": {},
   "outputs": [
    {
     "name": "stdout",
     "output_type": "stream",
     "text": [
      "There will be 7 green bottles hanging on the wall\n",
      "There will be 6 green bottles hanging on the wall\n",
      "There will be 5 green bottles hanging on the wall\n",
      "There will be 4 green bottles hanging on the wall\n",
      "There will be 3 green bottles hanging on the wall\n",
      "There will be 2 green bottles hanging on the wall\n",
      "There will be 1 green bottles hanging on the wall\n",
      "There are no more green bottles hanging on the wall\n"
     ]
    }
   ],
   "source": [
    "num= 8\n",
    "while True: \n",
    "    answer= int(input(f\"There are {num} green bottles hanging on the wall, {num} green bottles hangng on the wall, and if 1 green bottle should accidentally fall, then how many green bottles hanging on the wall? \"))\n",
    "    if (num - 1) != 0:\n",
    "        if answer != (num - 1):\n",
    "            print('No, try again')\n",
    "        else:\n",
    "            num -= 1\n",
    "            print(f\"There will be {num} green bottles hanging on the wall\")\n",
    "    else:\n",
    "        print('There are no more green bottles hanging on the wall')\n",
    "        break"
   ]
  }
 ],
 "metadata": {
  "kernelspec": {
   "display_name": "Qvenv",
   "language": "python",
   "name": "qvenv"
  },
  "language_info": {
   "codemirror_mode": {
    "name": "ipython",
    "version": 3
   },
   "file_extension": ".py",
   "mimetype": "text/x-python",
   "name": "python",
   "nbconvert_exporter": "python",
   "pygments_lexer": "ipython3",
   "version": "3.10.0"
  }
 },
 "nbformat": 4,
 "nbformat_minor": 2
}
