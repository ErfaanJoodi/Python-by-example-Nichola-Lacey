{
 "cells": [
  {
   "cell_type": "markdown",
   "metadata": {},
   "source": [
    "# Hi :)"
   ]
  },
  {
   "cell_type": "markdown",
   "metadata": {},
   "source": [
    "----"
   ]
  },
  {
   "cell_type": "markdown",
   "metadata": {},
   "source": [
    "012\n",
    "Ask for two numbers. If\n",
    "the first one is larger\n",
    "than the second, display\n",
    "the second number first\n",
    "and then the first\n",
    "number, otherwise show\n",
    "the first number first and\n",
    "then the second."
   ]
  },
  {
   "cell_type": "code",
   "execution_count": 1,
   "metadata": {},
   "outputs": [
    {
     "name": "stdout",
     "output_type": "stream",
     "text": [
      "8.0 4.0\n"
     ]
    }
   ],
   "source": [
    "number1= float(input('Please enter your first number: '))\n",
    "number2= float(input('Please enter your second number: '))\n",
    "print(number2, number1) if (number1 < number2) else print(number1, number2)"
   ]
  },
  {
   "cell_type": "markdown",
   "metadata": {},
   "source": [
    "----"
   ]
  },
  {
   "cell_type": "markdown",
   "metadata": {},
   "source": [
    "013\n",
    "Ask the user to enter a\n",
    "number that is under\n",
    "20. If they enter a\n",
    "number that is 20 or\n",
    "more, display the\n",
    "message “Too high”,\n",
    "otherwise display\n",
    "“Thank you”."
   ]
  },
  {
   "cell_type": "code",
   "execution_count": 2,
   "metadata": {},
   "outputs": [
    {
     "name": "stdout",
     "output_type": "stream",
     "text": [
      "Thank you\n"
     ]
    }
   ],
   "source": [
    "number= float(input('Please enter a number under 20: '))\n",
    "print('Thank you') if (number < 20) else print('Too high')"
   ]
  },
  {
   "cell_type": "markdown",
   "metadata": {},
   "source": [
    "----"
   ]
  },
  {
   "cell_type": "markdown",
   "metadata": {},
   "source": [
    "014\n",
    "Ask the user to enter a\n",
    "number between 10 and 20\n",
    "(inclusive). If they enter a\n",
    "number within this range,\n",
    "display the message “Thank\n",
    "you”, otherwise display the\n",
    "message “Incorrect\n",
    "answer”."
   ]
  },
  {
   "cell_type": "code",
   "execution_count": 3,
   "metadata": {},
   "outputs": [
    {
     "name": "stdout",
     "output_type": "stream",
     "text": [
      "Thank you\n"
     ]
    }
   ],
   "source": [
    "number= float(input('Please enter a number between 10 and 20: '))\n",
    "print('Thank you') if (10 < number < 20) else print('Incorrect answer')"
   ]
  },
  {
   "cell_type": "markdown",
   "metadata": {},
   "source": [
    "----"
   ]
  },
  {
   "cell_type": "markdown",
   "metadata": {},
   "source": [
    "015\n",
    "Ask the user to enter their favourite colour. If they enter “red”, “RED” or\n",
    "“Red” display the message “I like red too”, otherwise display the message\n",
    "“I don’t like [colour], I prefer red”."
   ]
  },
  {
   "cell_type": "code",
   "execution_count": 4,
   "metadata": {},
   "outputs": [
    {
     "name": "stdout",
     "output_type": "stream",
     "text": [
      "I like red too\n"
     ]
    }
   ],
   "source": [
    "color= input('Please enter your favourite color: ')\n",
    "print('I like red too') if (color.lower() == 'red') else print(f\"I don't like {color}, I prefer red\")"
   ]
  },
  {
   "cell_type": "markdown",
   "metadata": {},
   "source": [
    "----"
   ]
  },
  {
   "cell_type": "markdown",
   "metadata": {},
   "source": [
    "016\n",
    "Ask the user if it is raining and convert their answer to lower case\n",
    "so it doesn’t matter what case they type it in. If they answer “yes”,\n",
    "ask if it is windy. If they answer “yes” to this second question,\n",
    "display the answer “It is too windy for an umbrella”, otherwise\n",
    "display the message “Take an umbrella”. If they did not answer yes\n",
    "to the first question, display the answer “Enjoy your day”."
   ]
  },
  {
   "cell_type": "code",
   "execution_count": 5,
   "metadata": {},
   "outputs": [
    {
     "name": "stdout",
     "output_type": "stream",
     "text": [
      "Take an umbrella\n"
     ]
    }
   ],
   "source": [
    "rain= input('Is it raining today? (yes/no) ').lower()\n",
    "if rain == 'yes':\n",
    "    windy= input('Is it windy today? (yes/no) ').lower()\n",
    "    print('It is too windy for an umbrella') if (windy == 'yes') else print('Take an umbrella')\n",
    "else:\n",
    "    print('Enjoy your day')"
   ]
  },
  {
   "cell_type": "markdown",
   "metadata": {},
   "source": [
    "----"
   ]
  },
  {
   "cell_type": "markdown",
   "metadata": {},
   "source": [
    "017\n",
    "Ask the user’s age. If they\n",
    "are 18 or over, display the\n",
    "message “You can vote”, if\n",
    "they are aged 17, display the\n",
    "message “You can learn to\n",
    "drive”, if they are 16, display\n",
    "the message “You can buy a\n",
    "lottery ticket”, if they are\n",
    "under 16, display the\n",
    "message “You can go Trickor-Treating”."
   ]
  },
  {
   "cell_type": "code",
   "execution_count": 6,
   "metadata": {},
   "outputs": [
    {
     "name": "stdout",
     "output_type": "stream",
     "text": [
      "You can vote\n"
     ]
    }
   ],
   "source": [
    "age= int(input('Please enter your age: '))\n",
    "if (age < 16):\n",
    "    print('You can go Trickor-Treating')\n",
    "else:\n",
    "    print('You can buy a lottery ticket') if (age == 16) else print('You can learn to drive') if (age == 17) else print('You can vote')"
   ]
  },
  {
   "cell_type": "markdown",
   "metadata": {},
   "source": [
    "----"
   ]
  },
  {
   "cell_type": "markdown",
   "metadata": {},
   "source": [
    "018\n",
    "Ask the user to enter a number. If it is under 10,\n",
    "display the message “Too low”, if their number is\n",
    "between 10 and 20, display “Correct”, otherwise\n",
    "display “Too high”"
   ]
  },
  {
   "cell_type": "code",
   "execution_count": 7,
   "metadata": {},
   "outputs": [
    {
     "name": "stdout",
     "output_type": "stream",
     "text": [
      "Too high\n"
     ]
    }
   ],
   "source": [
    "number= float(input('Please enter your number: '))\n",
    "print('Too low') if (number < 10) else print('Too high') if (number > 20) else print('Correct')"
   ]
  },
  {
   "cell_type": "markdown",
   "metadata": {},
   "source": [
    "----"
   ]
  },
  {
   "cell_type": "markdown",
   "metadata": {},
   "source": [
    "019\n",
    "Ask the user to enter 1, 2 or 3. If they enter a 1, display\n",
    "the message “Thank you”, if they enter a 2, display\n",
    "“Well done”, if they enter a 3, display “Correct”. If\n",
    "they enter anything else, display “Error message”."
   ]
  },
  {
   "cell_type": "code",
   "execution_count": 8,
   "metadata": {},
   "outputs": [
    {
     "name": "stdout",
     "output_type": "stream",
     "text": [
      "Error message\n"
     ]
    }
   ],
   "source": [
    "number= int(input('Please enter 1 or 2 or 3: '))\n",
    "if number in [1, 2, 3]:\n",
    "    print('Thank you') if (number == 1) else print('Well done') if (number == 2) else print('Correct')\n",
    "else:\n",
    "    print('Error message')"
   ]
  }
 ],
 "metadata": {
  "kernelspec": {
   "display_name": "Qvenv",
   "language": "python",
   "name": "qvenv"
  },
  "language_info": {
   "codemirror_mode": {
    "name": "ipython",
    "version": 3
   },
   "file_extension": ".py",
   "mimetype": "text/x-python",
   "name": "python",
   "nbconvert_exporter": "python",
   "pygments_lexer": "ipython3",
   "version": "3.10.0"
  }
 },
 "nbformat": 4,
 "nbformat_minor": 2
}
