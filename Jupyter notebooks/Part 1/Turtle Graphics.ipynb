{
 "cells": [
  {
   "cell_type": "markdown",
   "metadata": {},
   "source": [
    "# Hi :)"
   ]
  },
  {
   "cell_type": "markdown",
   "metadata": {},
   "source": [
    "----"
   ]
  },
  {
   "cell_type": "markdown",
   "metadata": {},
   "source": [
    "060\n",
    "Draw a square."
   ]
  },
  {
   "cell_type": "code",
   "execution_count": null,
   "metadata": {},
   "outputs": [],
   "source": [
    "import turtle\n",
    "\n",
    "for i in range(4):\n",
    "    turtle.forward(84)\n",
    "    turtle.right(90)\n",
    "turtle.exitonclick()"
   ]
  },
  {
   "cell_type": "markdown",
   "metadata": {},
   "source": [
    "----"
   ]
  },
  {
   "cell_type": "markdown",
   "metadata": {},
   "source": [
    "061\n",
    "Draw a triangle."
   ]
  },
  {
   "cell_type": "code",
   "execution_count": null,
   "metadata": {},
   "outputs": [],
   "source": [
    "import turtle\n",
    "\n",
    "for i in range(3):\n",
    "    turtle.forward(84)\n",
    "    turtle.left(120)\n",
    "turtle.exitonclick()"
   ]
  },
  {
   "cell_type": "markdown",
   "metadata": {},
   "source": [
    "----"
   ]
  },
  {
   "cell_type": "markdown",
   "metadata": {},
   "source": [
    "062\n",
    "Draw a circle."
   ]
  },
  {
   "cell_type": "code",
   "execution_count": null,
   "metadata": {},
   "outputs": [],
   "source": [
    "import turtle\n",
    "\n",
    "for i in range(360 * 2):\n",
    "    turtle.forward(1 / 2)\n",
    "    turtle.left(1 / 2)\n",
    "turtle.exitonclick()"
   ]
  },
  {
   "cell_type": "markdown",
   "metadata": {},
   "source": [
    "----"
   ]
  },
  {
   "cell_type": "markdown",
   "metadata": {},
   "source": [
    "063\n",
    "Draw three squares\n",
    "in a row with a gap\n",
    "between each. Fill\n",
    "them using three\n",
    "different colours."
   ]
  },
  {
   "cell_type": "code",
   "execution_count": null,
   "metadata": {},
   "outputs": [],
   "source": [
    "import turtle\n",
    "\n",
    "for color in ['red', 'blue', 'purple']:\n",
    "    turtle.pendown()\n",
    "    turtle.begin_fill()\n",
    "    turtle.color('black', color)\n",
    "    for i in range(3):\n",
    "        turtle.forward(84)\n",
    "        turtle.left(120)\n",
    "    turtle.end_fill()\n",
    "    turtle.penup()\n",
    "    turtle.forward(84 + 48)\n",
    "turtle.exitonclick()"
   ]
  },
  {
   "cell_type": "markdown",
   "metadata": {},
   "source": [
    "----"
   ]
  },
  {
   "cell_type": "markdown",
   "metadata": {},
   "source": [
    "064\n",
    "Draw a five-pointed\n",
    "star."
   ]
  },
  {
   "cell_type": "code",
   "execution_count": null,
   "metadata": {},
   "outputs": [],
   "source": [
    "import turtle\n",
    "\n",
    "for i in range(5):\n",
    "    turtle.forward(84)\n",
    "    turtle.right(144)\n",
    "turtle.exitonclick()"
   ]
  },
  {
   "cell_type": "markdown",
   "metadata": {},
   "source": [
    "----"
   ]
  },
  {
   "cell_type": "markdown",
   "metadata": {},
   "source": [
    "065\n",
    "Write the numbers as shown below,\n",
    "starting at the bottom of the number\n",
    "one.(page 53)"
   ]
  },
  {
   "cell_type": "code",
   "execution_count": null,
   "metadata": {},
   "outputs": [],
   "source": [
    "import turtle\n",
    "\n",
    "turtle.pendown()\n",
    "turtle.left(90)\n",
    "turtle.forward(48)\n",
    "turtle.penup()\n",
    "turtle.right(90)\n",
    "turtle.forward(48)\n",
    "turtle.right(90)\n",
    "turtle.forward(48)\n",
    "turtle.left(90)\n",
    "turtle.forward(48)\n",
    "turtle.pendown()\n",
    "turtle.left(180)\n",
    "turtle.forward(48)\n",
    "turtle.right(90)\n",
    "turtle.forward(24)\n",
    "turtle.right(90)\n",
    "turtle.forward(48)\n",
    "turtle.left(90)\n",
    "turtle.forward(24)\n",
    "turtle.left(90)\n",
    "turtle.forward(48)\n",
    "turtle.penup()\n",
    "turtle.right(180)\n",
    "turtle.forward(96)\n",
    "turtle.right(90)\n",
    "turtle.forward(48)\n",
    "turtle.pendown()\n",
    "turtle.left(90)\n",
    "turtle.forward(48)\n",
    "turtle.left(90)\n",
    "turtle.forward(24)\n",
    "turtle.left(90)\n",
    "turtle.forward(40)\n",
    "turtle.penup()\n",
    "turtle.right(180)\n",
    "turtle.forward(40)\n",
    "turtle.pendown()\n",
    "turtle.left(90)\n",
    "turtle.forward(24)\n",
    "turtle.left(90)\n",
    "turtle.forward(48)\n",
    "turtle.exitonclick()"
   ]
  },
  {
   "cell_type": "markdown",
   "metadata": {},
   "source": [
    "----"
   ]
  },
  {
   "cell_type": "markdown",
   "metadata": {},
   "source": [
    "066\n",
    "Draw an octagon that uses a different colour (randomly\n",
    "selected from a list of six possible colours) for each line."
   ]
  },
  {
   "cell_type": "code",
   "execution_count": null,
   "metadata": {},
   "outputs": [],
   "source": [
    "import turtle\n",
    "import random\n",
    "\n",
    "for i in range(8):\n",
    "    color= random.choice(['red', 'blue', 'purple', 'black', 'orange', 'green'])\n",
    "    turtle.color(color)\n",
    "    turtle.forward(48)\n",
    "    turtle.left(45)\n",
    "turtle.exitonclick()"
   ]
  },
  {
   "cell_type": "markdown",
   "metadata": {},
   "source": [
    "----"
   ]
  },
  {
   "cell_type": "markdown",
   "metadata": {},
   "source": [
    "067\n",
    "Create the following pattern:(page 53)"
   ]
  },
  {
   "cell_type": "code",
   "execution_count": null,
   "metadata": {},
   "outputs": [],
   "source": [
    "import turtle\n",
    "\n",
    "for i in range(10):\n",
    "    for j in range(8):\n",
    "        turtle.forward(48)\n",
    "        turtle.left(45)\n",
    "    turtle.right(36)\n",
    "turtle.exitonclick()"
   ]
  },
  {
   "cell_type": "markdown",
   "metadata": {},
   "source": [
    "----"
   ]
  },
  {
   "cell_type": "markdown",
   "metadata": {},
   "source": [
    "068\n",
    "Draw a pattern that will change each time the\n",
    "program is run. Use the random function to pick\n",
    "the number of lines, the length of each line and\n",
    "the angle of each turn."
   ]
  },
  {
   "cell_type": "code",
   "execution_count": null,
   "metadata": {},
   "outputs": [],
   "source": [
    "import turtle\n",
    "import random\n",
    "\n",
    "lines= random.randint(1, 48)\n",
    "for i in range(lines):\n",
    "    length= random.randint(1, 48)\n",
    "    angle= random.randint(1, 360)\n",
    "    turtle.forward(length)\n",
    "    turtle.right(angle)\n",
    "turtle.exitonclick()"
   ]
  }
 ],
 "metadata": {
  "kernelspec": {
   "display_name": "Qvenv",
   "language": "python",
   "name": "qvenv"
  },
  "language_info": {
   "codemirror_mode": {
    "name": "ipython",
    "version": 3
   },
   "file_extension": ".py",
   "mimetype": "text/x-python",
   "name": "python",
   "nbconvert_exporter": "python",
   "pygments_lexer": "ipython3",
   "version": "3.10.0"
  }
 },
 "nbformat": 4,
 "nbformat_minor": 2
}
