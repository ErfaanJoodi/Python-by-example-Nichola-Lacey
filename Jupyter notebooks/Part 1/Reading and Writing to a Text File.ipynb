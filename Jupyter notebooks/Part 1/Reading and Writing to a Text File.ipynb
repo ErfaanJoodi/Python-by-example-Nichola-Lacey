{
 "cells": [
  {
   "cell_type": "markdown",
   "metadata": {},
   "source": [
    "105\n",
    "Write a new file\n",
    "called\n",
    "“Numbers.txt”.\n",
    "Add five numbers\n",
    "to the document\n",
    "which are stored\n",
    "on the same line\n",
    "and only\n",
    "separated by a\n",
    "comma. Once you\n",
    "have run the\n",
    "program, look in\n",
    "the location where\n",
    "your program is\n",
    "stored and you\n",
    "should see that\n",
    "the file has been\n",
    "created. The\n",
    "easiest way to\n",
    "view the contents\n",
    "of the new text file\n",
    "on a Windows\n",
    "system is to read it\n",
    "using Notepad."
   ]
  },
  {
   "cell_type": "code",
   "execution_count": 1,
   "metadata": {},
   "outputs": [],
   "source": [
    "file= open('Files/Numbers.txt', 'w')\n",
    "file.write('4, 8, 48, 84, 484')\n",
    "file.close()"
   ]
  },
  {
   "cell_type": "markdown",
   "metadata": {},
   "source": [
    "----"
   ]
  },
  {
   "cell_type": "markdown",
   "metadata": {},
   "source": [
    "106\n",
    "Create a new file called “Names.txt”. Add five names to the\n",
    "document, which are stored on separate lines. Once you have\n",
    "run the program, look in the location where your program is\n",
    "stored and check that the file has been created properly."
   ]
  },
  {
   "cell_type": "code",
   "execution_count": 2,
   "metadata": {},
   "outputs": [],
   "source": [
    "file= open('Files/Names.txt', 'w')\n",
    "file.write('Erfan\\nNafas\\nNayereh\\nAli\\nEmad')\n",
    "file.close()"
   ]
  },
  {
   "cell_type": "markdown",
   "metadata": {},
   "source": [
    "----"
   ]
  },
  {
   "cell_type": "markdown",
   "metadata": {},
   "source": [
    "107\n",
    "Open the\n",
    "Names.txt\n",
    "file and\n",
    "display\n",
    "the data\n",
    "in Python."
   ]
  },
  {
   "cell_type": "code",
   "execution_count": 3,
   "metadata": {},
   "outputs": [
    {
     "name": "stdout",
     "output_type": "stream",
     "text": [
      "Erfan\n",
      "Nafas\n",
      "Nayereh\n",
      "Ali\n",
      "Emad\n"
     ]
    }
   ],
   "source": [
    "file= open('Files/Names.txt', 'r')\n",
    "print(file.read())\n",
    "file.close()"
   ]
  },
  {
   "cell_type": "markdown",
   "metadata": {},
   "source": [
    "----"
   ]
  },
  {
   "cell_type": "markdown",
   "metadata": {},
   "source": [
    "108\n",
    "Open the Names.txt file. Ask the user to input a\n",
    "new name. Add this to the end of the file and\n",
    "display the entire file."
   ]
  },
  {
   "cell_type": "code",
   "execution_count": 4,
   "metadata": {},
   "outputs": [
    {
     "name": "stdout",
     "output_type": "stream",
     "text": [
      "Erfan\n",
      "Nafas\n",
      "Nayereh\n",
      "Ali\n",
      "Emad\n",
      "Anastazia\n"
     ]
    }
   ],
   "source": [
    "file= open('Files/Names.txt', 'a')\n",
    "file.write(f\"\\n{input('Please enter a new name: ')}\")\n",
    "file.close()\n",
    "file= open('Files/Names.txt', 'r')\n",
    "print(file.read())\n",
    "file.close()"
   ]
  },
  {
   "cell_type": "markdown",
   "metadata": {},
   "source": [
    "----"
   ]
  },
  {
   "cell_type": "markdown",
   "metadata": {},
   "source": [
    "109\n",
    "Display the following menu to the user:(page 88)\n",
    "Ask the user to enter 1, 2 or 3. If they select\n",
    "anything other than 1, 2 or 3 it should display a\n",
    "suitable error message.\n",
    "If they select 1, ask the user to enter a school\n",
    "subject and save it to a new file called\n",
    "“Subject.txt”. It should overwrite any existing file\n",
    "with a new file.\n",
    "If they select 2, display the contents of the\n",
    "“Subject.txt” file.\n",
    "If they select 3, ask the user to enter a new\n",
    "subject and save it to the file and then display\n",
    "the entire contents of the file.\n",
    "Run the program several times to test the\n",
    "options. \n"
   ]
  },
  {
   "cell_type": "code",
   "execution_count": 7,
   "metadata": {},
   "outputs": [
    {
     "name": "stdout",
     "output_type": "stream",
     "text": [
      "Math\n",
      "History\n",
      "\n"
     ]
    }
   ],
   "source": [
    "choice= input('1)Create a new file\\n2)Display the file\\n3)Add a new item to the file\\nMake a selection 1, 2 or 3: ')\n",
    "if choice not in ['1', '2', '3']:\n",
    "    print('Error')\n",
    "else:\n",
    "    if choice == '1':\n",
    "        file= open('Files/Subject.txt', 'w')\n",
    "        file.write(input('Please enter a school subject: ') + '\\n')\n",
    "        file.close()\n",
    "    elif choice == '2':\n",
    "        file= open('Files/Subject.txt', 'r')\n",
    "        print(file.read())\n",
    "        file.close()\n",
    "    else:\n",
    "        file= open('Files/Subject.txt', 'a')\n",
    "        file.write(input('Please enter a new school subject: ') + '\\n')\n",
    "        file.close()\n",
    "        file= open('Files/Subject.txt', 'r')\n",
    "        print(file.read())\n",
    "        file.close()"
   ]
  },
  {
   "cell_type": "markdown",
   "metadata": {},
   "source": [
    "----"
   ]
  },
  {
   "cell_type": "markdown",
   "metadata": {},
   "source": [
    "110\n",
    "Using the Names.txt file you\n",
    "created earlier, display the list of\n",
    "names in Python. Ask the user to\n",
    "type in one of the names and then\n",
    "save all the names except the one\n",
    "they entered into a new file called\n",
    "Names2.txt."
   ]
  },
  {
   "cell_type": "code",
   "execution_count": 8,
   "metadata": {},
   "outputs": [
    {
     "name": "stdout",
     "output_type": "stream",
     "text": [
      "Erfan\n",
      "Nafas\n",
      "Nayereh\n",
      "Ali\n",
      "Emad\n",
      "Anastazia\n"
     ]
    }
   ],
   "source": [
    "file= open('Files/Names.txt', 'r')\n",
    "names= file.read()\n",
    "print(names)\n",
    "file.close()\n",
    "names= names.split('\\n')\n",
    "name= input('Please enter a name from the names: ').capitalize()\n",
    "names.remove(name)\n",
    "string= ''\n",
    "for name in names:\n",
    "    string += (name + '\\n')\n",
    "string= string[ : -1]\n",
    "file= open('Files/Names2.txt', 'w')\n",
    "file.write(string)\n",
    "file.close()"
   ]
  }
 ],
 "metadata": {
  "kernelspec": {
   "display_name": "Qvenv",
   "language": "python",
   "name": "qvenv"
  },
  "language_info": {
   "codemirror_mode": {
    "name": "ipython",
    "version": 3
   },
   "file_extension": ".py",
   "mimetype": "text/x-python",
   "name": "python",
   "nbconvert_exporter": "python",
   "pygments_lexer": "ipython3",
   "version": "3.10.0"
  }
 },
 "nbformat": 4,
 "nbformat_minor": 2
}
